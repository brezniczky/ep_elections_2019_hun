{
 "cells": [
  {
   "cell_type": "markdown",
   "metadata": {},
   "source": [
    "#### Moved\n",
    "\n",
    "This file has moved to [https://github.com/brezniczky/ep_elections_2019_hun/blob/master/Hungary%202019%20EP%20Elections.ipynb](https://github.com/brezniczky/ep_elections_2019_hun/blob/master/Hungary%202019%20EP%20Elections.ipynb)\n",
    "\n",
    "In case the above does not work, please try [https://htmlpreview.github.io/?https://github.com/brezniczky/ep_elections_2019_hun/blob/master/Hungary%202019%20EP%20Elections.html](https://htmlpreview.github.io/?https://github.com/brezniczky/ep_elections_2019_hun/blob/master/Hungary%202019%20EP%20Elections.html)\n",
    "\n",
    "or just have a look at the [README](https://github.com/brezniczky/ep_elections_2019_hun/blob/master/README.md) and/or the [repository directory[(https://github.com/brezniczky/ep_elections_2019_hun) in case things got really outdated somehow.\n",
    "\n",
    "Thank you for your patience!"
   ]
  }
 ],
 "metadata": {
  "kernelspec": {
   "display_name": "Python 3",
   "language": "python",
   "name": "python3"
  },
  "language_info": {
   "codemirror_mode": {
    "name": "ipython",
    "version": 3
   },
   "file_extension": ".py",
   "mimetype": "text/x-python",
   "name": "python",
   "nbconvert_exporter": "python",
   "pygments_lexer": "ipython3",
   "version": "3.5.2"
  }
 },
 "nbformat": 4,
 "nbformat_minor": 2
}
