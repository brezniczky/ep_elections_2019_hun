{
 "cells": [
  {
   "cell_type": "markdown",
   "metadata": {},
   "source": [
    "## Irregularities in recent (2018-2019) Hungarian election data\n",
    "\n",
    "### Supported by 2014 general election data\n",
    "\n",
    "#### Working Draft Version 0.3.3\n",
    "\n",
    "#### János Brezniczky\n",
    "#### Last updated: 28/08/2019"
   ]
  },
  {
   "cell_type": "markdown",
   "metadata": {},
   "source": [
    "### Disclaimer\n",
    "\n",
    "The author is not a statistician, considers himself an enthusiastic hobbyist with some degree of familiarity with data analytics. The author went intentionally \"inventive\", once fraud metrics are defined, measures can be taken to avoid those - so likely these have to be reinvented regularly in order to remain effective in this continuous chase.\n",
    "\n",
    "Apparently, some trend has clearly emerged, and since it was caught where other, presumably independent potential traces of result tampering were detected, this is very possibly related to fraud, albeit statistical conclusions will probably never be 100% certain, and no person should be individually judged (possibly misjudged) on the grounds of the below.\n",
    "\n",
    "Also note, there will probably always be some degree of uncertainity when trying to verify election results a posteriori, so the degree of doubt left after this analysis might as well be minimal.\n",
    "At the end, the author's personal opinion is also voiced."
   ]
  },
  {
   "cell_type": "markdown",
   "metadata": {},
   "source": [
    "### Abstract"
   ]
  },
  {
   "cell_type": "markdown",
   "metadata": {
    "collapsed": true
   },
   "source": [
    "Human craft work tends to leave a trace of unevenness on impacted numeric data, for instance, humans are an imperfect source of random numbers. Certain values tend to be avoided or preferred, those of last digits are no exception. Such behaviour can be analytically examined.\n",
    "\n",
    "The final artifacts are: \n",
    "\n",
    "1. A list: [\"Overall top 45 suspicious settlements for the last 2 considered elections\"](#overall_top_45_for_last_2), the top list in decreasing order of unlikeliness of the digit statistics. It leverages results, mainly focusing on the results of the winning party from recent years, from the below steps.\n",
    "2. [Fingerprint plots](#fraud), justifying the previously constructed list in that by splitting the municipality ranking around 50%, we get increasingly and very different plots when comparing the more and less suspect muncipalities' results as we progress from 2014 towards 2019. A theory is also outlined about how this can mean fraud.\n",
    "\n",
    "[An entropy based overall assessment](#2019_entropy_based_stats) of the 2019 European Parlamentiary Election results alone shows a 97%-98% unlikeliness after focusing on the top 20 settlements which were identified as the most likely \"oddball\" candidates through certain heuristics.\n",
    "The verification is not entirely restricted to these, but a Monte-Carlo simulation covering each ward takes place replacing each vote count last digit with a uniform random value. The extremities obtained via identical steps leading to the aforementioned top 20 candidates are rarely found to be (approx. 3%) as extreme as in case of the actual data.\n",
    "(Without focusing on the top 20, the likeliness increases to some sub-6% value, this is not detailed below.)\n",
    "\n",
    "Individual settlement results can also be highlighted using this tool, for instance by [compiling the 2018 and 2019 last digit distribution entropy probabilities](#entropy_2018_2019_summary) and leveraging that the last digits should independently vary in such characteristically different electoral settings (the turnout has been 70.22% in 2018 at 7 pm [[1](#ref_1)], whilst only 43.48% at the same time in 2019 [[2](#ref_2)], when the ballots closed). Certain larger settlements appear to have been treated less accurately than others.\n",
    "\n",
    "[An additional inclusion of 2014 results](#ent_2014_18_19_top) further broadens the scope, 44 areas are listed with a 5% probability left for them being the result of pure chance, assuming that no anomaly occurred in either of the three years.\n",
    "\n",
    "[Equality of successive digits](#digit_repeats) can also be considered an anomaly, there are settlements with an odd prevalence of  this respect as well.\n",
    "\n",
    "Another approach reliant on [the concept of _overhearing_](#overhearing) (possibly introduced here, but more likely just unknowingly renamed and reintroduced) of values between recorded streams of 2019 digits also concludes a << 5% likeliness of the major value sequences (votes of Fidesz and valid votes) having a uniformly and _independently_  distributed last digit from other sequences.\n",
    "\n",
    "A number of ways in which [further examinations](#further_results) could be carried out will also be outlined.\n",
    "\n",
    "The related [methodology](#methodology) is also briefly described (possibly incomplete and/or redundant).\n",
    "\n",
    "Such examinations are not suited to prove forgery as a fact, natural human mistakes may leave such marks on numeric data as well, and we could similarly expect some degree of random discrepancy, yet any of these underlines at the very least that some quality improvement is likely desirable, especially in certain settlements."
   ]
  },
  {
   "cell_type": "markdown",
   "metadata": {},
   "source": [
    "<a id=\"2019_entropy_based_stats\"></a>\n",
    "### The 2019 data in entropy based statistics"
   ]
  },
  {
   "cell_type": "markdown",
   "metadata": {},
   "source": [
    "A brief summary of the findings (about the likeliness of the \"top 20\" total last digit Fidesz votes entropy wandering this far from their typical values) where the Fidesz party has received at least 100 votes in each ward is as on the below chart.\n",
    "\n",
    "The histogram depicting the simulations' results does not seem to suggest that this is realistically a clean (distribution wise uniform) situation. The entropy drops fairly low, corresponding with a less than 2% probability in all examined cases, and particularly < 2% for the top 20 candidates. This may however be down to a handful of settlements with highly obscure results.\n",
    "\n",
    "The relevant data/code can be found taking a look at the app5_... files."
   ]
  },
  {
   "cell_type": "code",
   "execution_count": 1,
   "metadata": {},
   "outputs": [],
   "source": [
    "import matplotlib.pyplot as plt\n",
    "\n",
    "plt.rcParams['figure.figsize'] = [6.9, 3]"
   ]
  },
  {
   "cell_type": "code",
   "execution_count": 2,
   "metadata": {},
   "outputs": [
    {
     "data": {
      "image/png": "[encoded data removed]",
      "text/plain": [
       "<Figure size 432x288 with 1 Axes>"
      ]
     },
     "metadata": {
      "needs_background": "light"
     },
     "output_type": "display_data"
    }
   ],
   "source": [
    "from app5_ent_in_top import plot_app5_entropy_distribution\n",
    "\n",
    "plot_app5_entropy_distribution()"
   ]
  },
  {
   "cell_type": "markdown",
   "metadata": {},
   "source": [
    "It is also possible to utilize later results of the project and describe the log likelihood distribution based likeliness of the top 20 actual values assuming that the last Fidesz party vote count digits are uniformly distributed in case of sufficiently sizable settlements as the null hypothesis.\n",
    "This is expected to be a more accurate probability due to sorting and comparability issues in case of the earlier entropy values (due to the varying settlement ward counts) whilst here the individual settlement p-values better conform with each other.\n",
    "\n",
    "A p-value of 1.35% allows to reject it with a 5% significance level:"
   ]
  },
  {
   "cell_type": "code",
   "execution_count": 3,
   "metadata": {},
   "outputs": [
    {
     "data": {
      "image/png": "[encoded data removed]",
      "text/plain": [
       "<Figure size 432x288 with 1 Axes>"
      ]
     },
     "metadata": {
      "needs_background": "light"
     },
     "output_type": "display_data"
    }
   ],
   "source": [
    "import app9_overall_log_likelihood as app9\n",
    "\n",
    "app9.plot_summary()"
   ]
  },
  {
   "cell_type": "markdown",
   "metadata": {},
   "source": [
    "While this is not necessarily a very stark result - depending on what claims we are trying to make or hypotheses to test - this certainly suggests that there is a reason for suspicion, and it is worth being kept in mind that people normally try to correct the traces of inaccuracies - the valid vote count could be adjusted accordingly, numbers could be made up (think of a lazy, short-sighted or just mentally tired vote counter) with care; but also that the signal can often disappear in the noise, examining a too big area or too big group of parties may be counterproductive when trying to find offending numbers."
   ]
  },
  {
   "cell_type": "markdown",
   "metadata": {},
   "source": [
    "<a id=\"entropy_2018_2019_summary\"></a>\n",
    "### Summarizing the 2018 and 2019 election data\n",
    "\n",
    "Using more data (without losing focus) tends to allow to obtain a perhaps crisper picture. These elections are so close in time that we can expect correlated irregularities.\n",
    "\n",
    "A pooled analysis of the empiric last digit distributions of data from the two most recent elections did not identify repeat problems with a 95% confidence, however, the suspects can be listed out in increasing likeliness. Also, from the probabilities we may estimate that 14 (since $\\sum p_i \\approx 14.4$..) of the below 20 could suffer from discrepancies in conveying the true numbers, or slightly less (due to discrepancies expected to coincide).\n",
    "\n",
    "#### Top suspects for irregularities in both years\n",
    "\n",
    "Based on vote count last digit entropy values, the most incorrect-looking settlements, with their respective mutual incorrectness probability for 2018 and 2019 (%), their correctness probability consistently and individually for both years, then only 2019 and 2018 are:"
   ]
  },
  {
   "cell_type": "code",
   "execution_count": 4,
   "metadata": {},
   "outputs": [
    {
     "data": {
      "text/html": [
       "<div>\n",
       "<style scoped>\n",
       "    .dataframe tbody tr th:only-of-type {\n",
       "        vertical-align: middle;\n",
       "    }\n",
       "\n",
       "    .dataframe tbody tr th {\n",
       "        vertical-align: top;\n",
       "    }\n",
       "\n",
       "    .dataframe thead th {\n",
       "        text-align: right;\n",
       "    }\n",
       "</style>\n",
       "<table border=\"1\" class=\"dataframe\">\n",
       "  <thead>\n",
       "    <tr style=\"text-align: right;\">\n",
       "      <th></th>\n",
       "      <th>Settlement</th>\n",
       "      <th>p_both_incorr_%</th>\n",
       "      <th>p_2019</th>\n",
       "      <th>p_2018</th>\n",
       "    </tr>\n",
       "  </thead>\n",
       "  <tbody>\n",
       "    <tr>\n",
       "      <th>0</th>\n",
       "      <td>Tata</td>\n",
       "      <td>94.896465</td>\n",
       "      <td>0.0429</td>\n",
       "      <td>0.0085</td>\n",
       "    </tr>\n",
       "    <tr>\n",
       "      <th>1</th>\n",
       "      <td>Balatonfüred</td>\n",
       "      <td>93.350995</td>\n",
       "      <td>0.0395</td>\n",
       "      <td>0.0281</td>\n",
       "    </tr>\n",
       "    <tr>\n",
       "      <th>2</th>\n",
       "      <td>Fót</td>\n",
       "      <td>90.833224</td>\n",
       "      <td>0.0101</td>\n",
       "      <td>0.0824</td>\n",
       "    </tr>\n",
       "    <tr>\n",
       "      <th>3</th>\n",
       "      <td>Eger</td>\n",
       "      <td>83.660361</td>\n",
       "      <td>0.0453</td>\n",
       "      <td>0.1237</td>\n",
       "    </tr>\n",
       "    <tr>\n",
       "      <th>4</th>\n",
       "      <td>Budapest XVI. kerület</td>\n",
       "      <td>74.931360</td>\n",
       "      <td>0.0772</td>\n",
       "      <td>0.1880</td>\n",
       "    </tr>\n",
       "    <tr>\n",
       "      <th>5</th>\n",
       "      <td>Mezőtúr</td>\n",
       "      <td>74.402596</td>\n",
       "      <td>0.1998</td>\n",
       "      <td>0.0702</td>\n",
       "    </tr>\n",
       "    <tr>\n",
       "      <th>6</th>\n",
       "      <td>Veresegyház</td>\n",
       "      <td>73.818450</td>\n",
       "      <td>0.1998</td>\n",
       "      <td>0.0775</td>\n",
       "    </tr>\n",
       "    <tr>\n",
       "      <th>7</th>\n",
       "      <td>Berettyóújfalu</td>\n",
       "      <td>72.978528</td>\n",
       "      <td>0.2664</td>\n",
       "      <td>0.0052</td>\n",
       "    </tr>\n",
       "    <tr>\n",
       "      <th>8</th>\n",
       "      <td>Vecsés</td>\n",
       "      <td>69.412224</td>\n",
       "      <td>0.0004</td>\n",
       "      <td>0.3056</td>\n",
       "    </tr>\n",
       "    <tr>\n",
       "      <th>9</th>\n",
       "      <td>Dunaföldvár</td>\n",
       "      <td>67.401178</td>\n",
       "      <td>0.3006</td>\n",
       "      <td>0.0363</td>\n",
       "    </tr>\n",
       "    <tr>\n",
       "      <th>10</th>\n",
       "      <td>Makó</td>\n",
       "      <td>66.878060</td>\n",
       "      <td>0.1395</td>\n",
       "      <td>0.2228</td>\n",
       "    </tr>\n",
       "    <tr>\n",
       "      <th>11</th>\n",
       "      <td>Pilisvörösvár</td>\n",
       "      <td>64.272912</td>\n",
       "      <td>0.1093</td>\n",
       "      <td>0.2784</td>\n",
       "    </tr>\n",
       "    <tr>\n",
       "      <th>12</th>\n",
       "      <td>Pécel</td>\n",
       "      <td>63.169800</td>\n",
       "      <td>0.0052</td>\n",
       "      <td>0.3650</td>\n",
       "    </tr>\n",
       "    <tr>\n",
       "      <th>13</th>\n",
       "      <td>Komárom</td>\n",
       "      <td>59.571075</td>\n",
       "      <td>0.3265</td>\n",
       "      <td>0.1155</td>\n",
       "    </tr>\n",
       "    <tr>\n",
       "      <th>14</th>\n",
       "      <td>Százhalombatta</td>\n",
       "      <td>58.267406</td>\n",
       "      <td>0.1553</td>\n",
       "      <td>0.3102</td>\n",
       "    </tr>\n",
       "    <tr>\n",
       "      <th>15</th>\n",
       "      <td>Maglód</td>\n",
       "      <td>57.457110</td>\n",
       "      <td>0.0395</td>\n",
       "      <td>0.4018</td>\n",
       "    </tr>\n",
       "    <tr>\n",
       "      <th>16</th>\n",
       "      <td>Budapest XXII. kerület</td>\n",
       "      <td>56.399285</td>\n",
       "      <td>0.3285</td>\n",
       "      <td>0.1601</td>\n",
       "    </tr>\n",
       "    <tr>\n",
       "      <th>17</th>\n",
       "      <td>Nagykálló</td>\n",
       "      <td>54.872886</td>\n",
       "      <td>0.4018</td>\n",
       "      <td>0.0827</td>\n",
       "    </tr>\n",
       "    <tr>\n",
       "      <th>18</th>\n",
       "      <td>Budapest II. kerület</td>\n",
       "      <td>54.797148</td>\n",
       "      <td>0.3007</td>\n",
       "      <td>0.2164</td>\n",
       "    </tr>\n",
       "    <tr>\n",
       "      <th>19</th>\n",
       "      <td>Tiszaföldvár</td>\n",
       "      <td>53.281674</td>\n",
       "      <td>0.1093</td>\n",
       "      <td>0.4018</td>\n",
       "    </tr>\n",
       "    <tr>\n",
       "      <th>20</th>\n",
       "      <td>Kisújszállás</td>\n",
       "      <td>52.070656</td>\n",
       "      <td>0.2784</td>\n",
       "      <td>0.2784</td>\n",
       "    </tr>\n",
       "  </tbody>\n",
       "</table>\n",
       "</div>"
      ],
      "text/plain": [
       "                Settlement  p_both_incorr_%  p_2019  p_2018\n",
       "0                     Tata        94.896465  0.0429  0.0085\n",
       "1             Balatonfüred        93.350995  0.0395  0.0281\n",
       "2                      Fót        90.833224  0.0101  0.0824\n",
       "3                     Eger        83.660361  0.0453  0.1237\n",
       "4    Budapest XVI. kerület        74.931360  0.0772  0.1880\n",
       "5                  Mezőtúr        74.402596  0.1998  0.0702\n",
       "6              Veresegyház        73.818450  0.1998  0.0775\n",
       "7           Berettyóújfalu        72.978528  0.2664  0.0052\n",
       "8                   Vecsés        69.412224  0.0004  0.3056\n",
       "9              Dunaföldvár        67.401178  0.3006  0.0363\n",
       "10                    Makó        66.878060  0.1395  0.2228\n",
       "11           Pilisvörösvár        64.272912  0.1093  0.2784\n",
       "12                   Pécel        63.169800  0.0052  0.3650\n",
       "13                 Komárom        59.571075  0.3265  0.1155\n",
       "14          Százhalombatta        58.267406  0.1553  0.3102\n",
       "15                  Maglód        57.457110  0.0395  0.4018\n",
       "16  Budapest XXII. kerület        56.399285  0.3285  0.1601\n",
       "17               Nagykálló        54.872886  0.4018  0.0827\n",
       "18    Budapest II. kerület        54.797148  0.3007  0.2164\n",
       "19            Tiszaföldvár        53.281674  0.1093  0.4018\n",
       "20            Kisújszállás        52.070656  0.2784  0.2784"
      ]
     },
     "execution_count": 4,
     "metadata": {},
     "output_type": "execute_result"
    }
   ],
   "source": [
    "import app6_comparative as app6\n",
    "\n",
    "(df_comparative, suspects, \n",
    " df_comparative_sorted_by_both, suspects2, \n",
    " df_comparative_sorted_by_all_3, suspects3) = app6.load_results()\n",
    "\n",
    "suspects2[\"p_both_incorr_%\"] = suspects2[\"p_both_incorr\"] * 100\n",
    "\n",
    "suspects2[[\"Settlement\", \"p_both_incorr_%\", \"p_2019\", \"p_2018\"]]\n"
   ]
  },
  {
   "cell_type": "markdown",
   "metadata": {},
   "source": [
    "#### Top suspects for some irregularity in at least one of the 2018 and 2019 (EP) elections\n",
    "\n",
    "On the other hand, naturally, the number of cases where at least one of the results looks suspicious (i.e. it is significantly unlikely, < 5%, that both would be 'regular'), is greater than that of the cases where only the 2019 results appeared odd (not detailed here), and yields a crisper view, once 2018 values had been taken into account.\n",
    "\n",
    "Note that the limiting p-value below is 0.1 i.e. the list is cut off at 10%."
   ]
  },
  {
   "cell_type": "code",
   "execution_count": 5,
   "metadata": {},
   "outputs": [
    {
     "data": {
      "text/html": [
       "<div>\n",
       "<style scoped>\n",
       "    .dataframe tbody tr th:only-of-type {\n",
       "        vertical-align: middle;\n",
       "    }\n",
       "\n",
       "    .dataframe tbody tr th {\n",
       "        vertical-align: top;\n",
       "    }\n",
       "\n",
       "    .dataframe thead th {\n",
       "        text-align: right;\n",
       "    }\n",
       "</style>\n",
       "<table border=\"1\" class=\"dataframe\">\n",
       "  <thead>\n",
       "    <tr style=\"text-align: right;\">\n",
       "      <th></th>\n",
       "      <th>Settlement</th>\n",
       "      <th>p_both_correct_%</th>\n",
       "    </tr>\n",
       "  </thead>\n",
       "  <tbody>\n",
       "    <tr>\n",
       "      <th>0</th>\n",
       "      <td>Vecsés</td>\n",
       "      <td>0.012224</td>\n",
       "    </tr>\n",
       "    <tr>\n",
       "      <th>1</th>\n",
       "      <td>Tata</td>\n",
       "      <td>0.036465</td>\n",
       "    </tr>\n",
       "    <tr>\n",
       "      <th>2</th>\n",
       "      <td>Fót</td>\n",
       "      <td>0.083224</td>\n",
       "    </tr>\n",
       "    <tr>\n",
       "      <th>3</th>\n",
       "      <td>Balatonfüred</td>\n",
       "      <td>0.110995</td>\n",
       "    </tr>\n",
       "    <tr>\n",
       "      <th>4</th>\n",
       "      <td>Berettyóújfalu</td>\n",
       "      <td>0.138528</td>\n",
       "    </tr>\n",
       "    <tr>\n",
       "      <th>5</th>\n",
       "      <td>Pécel</td>\n",
       "      <td>0.189800</td>\n",
       "    </tr>\n",
       "    <tr>\n",
       "      <th>6</th>\n",
       "      <td>Eger</td>\n",
       "      <td>0.560361</td>\n",
       "    </tr>\n",
       "    <tr>\n",
       "      <th>7</th>\n",
       "      <td>Budapest XV. kerület</td>\n",
       "      <td>0.817894</td>\n",
       "    </tr>\n",
       "    <tr>\n",
       "      <th>8</th>\n",
       "      <td>Mezőkövesd</td>\n",
       "      <td>0.943138</td>\n",
       "    </tr>\n",
       "    <tr>\n",
       "      <th>9</th>\n",
       "      <td>Dunaföldvár</td>\n",
       "      <td>1.091178</td>\n",
       "    </tr>\n",
       "    <tr>\n",
       "      <th>10</th>\n",
       "      <td>Mezőtúr</td>\n",
       "      <td>1.402596</td>\n",
       "    </tr>\n",
       "    <tr>\n",
       "      <th>11</th>\n",
       "      <td>Budapest XVI. kerület</td>\n",
       "      <td>1.451360</td>\n",
       "    </tr>\n",
       "    <tr>\n",
       "      <th>12</th>\n",
       "      <td>Veresegyház</td>\n",
       "      <td>1.548450</td>\n",
       "    </tr>\n",
       "    <tr>\n",
       "      <th>13</th>\n",
       "      <td>Maglód</td>\n",
       "      <td>1.587110</td>\n",
       "    </tr>\n",
       "    <tr>\n",
       "      <th>14</th>\n",
       "      <td>Sopron</td>\n",
       "      <td>1.659434</td>\n",
       "    </tr>\n",
       "    <tr>\n",
       "      <th>15</th>\n",
       "      <td>Budapest III. kerület</td>\n",
       "      <td>1.810160</td>\n",
       "    </tr>\n",
       "    <tr>\n",
       "      <th>16</th>\n",
       "      <td>Budapest XVII. kerület</td>\n",
       "      <td>2.227680</td>\n",
       "    </tr>\n",
       "    <tr>\n",
       "      <th>17</th>\n",
       "      <td>Gárdony</td>\n",
       "      <td>2.293241</td>\n",
       "    </tr>\n",
       "    <tr>\n",
       "      <th>18</th>\n",
       "      <td>Pilisvörösvár</td>\n",
       "      <td>3.042912</td>\n",
       "    </tr>\n",
       "    <tr>\n",
       "      <th>19</th>\n",
       "      <td>Makó</td>\n",
       "      <td>3.108060</td>\n",
       "    </tr>\n",
       "    <tr>\n",
       "      <th>20</th>\n",
       "      <td>Nagykálló</td>\n",
       "      <td>3.322886</td>\n",
       "    </tr>\n",
       "    <tr>\n",
       "      <th>21</th>\n",
       "      <td>Komárom</td>\n",
       "      <td>3.771075</td>\n",
       "    </tr>\n",
       "    <tr>\n",
       "      <th>22</th>\n",
       "      <td>Oroszlány</td>\n",
       "      <td>3.779568</td>\n",
       "    </tr>\n",
       "    <tr>\n",
       "      <th>23</th>\n",
       "      <td>Tiszaföldvár</td>\n",
       "      <td>4.391674</td>\n",
       "    </tr>\n",
       "    <tr>\n",
       "      <th>24</th>\n",
       "      <td>Százhalombatta</td>\n",
       "      <td>4.817406</td>\n",
       "    </tr>\n",
       "    <tr>\n",
       "      <th>25</th>\n",
       "      <td>Budapest XXII. kerület</td>\n",
       "      <td>5.259285</td>\n",
       "    </tr>\n",
       "    <tr>\n",
       "      <th>26</th>\n",
       "      <td>Gyál</td>\n",
       "      <td>5.449424</td>\n",
       "    </tr>\n",
       "    <tr>\n",
       "      <th>27</th>\n",
       "      <td>Zalaegerszeg</td>\n",
       "      <td>6.303010</td>\n",
       "    </tr>\n",
       "    <tr>\n",
       "      <th>28</th>\n",
       "      <td>Budapest II. kerület</td>\n",
       "      <td>6.507148</td>\n",
       "    </tr>\n",
       "    <tr>\n",
       "      <th>29</th>\n",
       "      <td>Gyömrő</td>\n",
       "      <td>6.627704</td>\n",
       "    </tr>\n",
       "    <tr>\n",
       "      <th>30</th>\n",
       "      <td>Kerepes</td>\n",
       "      <td>7.327034</td>\n",
       "    </tr>\n",
       "    <tr>\n",
       "      <th>31</th>\n",
       "      <td>Kisújszállás</td>\n",
       "      <td>7.750656</td>\n",
       "    </tr>\n",
       "    <tr>\n",
       "      <th>32</th>\n",
       "      <td>Pomáz</td>\n",
       "      <td>8.679330</td>\n",
       "    </tr>\n",
       "    <tr>\n",
       "      <th>33</th>\n",
       "      <td>Budapest VI. kerület</td>\n",
       "      <td>8.957991</td>\n",
       "    </tr>\n",
       "  </tbody>\n",
       "</table>\n",
       "</div>"
      ],
      "text/plain": [
       "                Settlement  p_both_correct_%\n",
       "0                   Vecsés          0.012224\n",
       "1                     Tata          0.036465\n",
       "2                      Fót          0.083224\n",
       "3             Balatonfüred          0.110995\n",
       "4           Berettyóújfalu          0.138528\n",
       "5                    Pécel          0.189800\n",
       "6                     Eger          0.560361\n",
       "7     Budapest XV. kerület          0.817894\n",
       "8               Mezőkövesd          0.943138\n",
       "9              Dunaföldvár          1.091178\n",
       "10                 Mezőtúr          1.402596\n",
       "11   Budapest XVI. kerület          1.451360\n",
       "12             Veresegyház          1.548450\n",
       "13                  Maglód          1.587110\n",
       "14                  Sopron          1.659434\n",
       "15   Budapest III. kerület          1.810160\n",
       "16  Budapest XVII. kerület          2.227680\n",
       "17                 Gárdony          2.293241\n",
       "18           Pilisvörösvár          3.042912\n",
       "19                    Makó          3.108060\n",
       "20               Nagykálló          3.322886\n",
       "21                 Komárom          3.771075\n",
       "22               Oroszlány          3.779568\n",
       "23            Tiszaföldvár          4.391674\n",
       "24          Százhalombatta          4.817406\n",
       "25  Budapest XXII. kerület          5.259285\n",
       "26                    Gyál          5.449424\n",
       "27            Zalaegerszeg          6.303010\n",
       "28    Budapest II. kerület          6.507148\n",
       "29                  Gyömrő          6.627704\n",
       "30                 Kerepes          7.327034\n",
       "31            Kisújszállás          7.750656\n",
       "32                   Pomáz          8.679330\n",
       "33    Budapest VI. kerület          8.957991"
      ]
     },
     "execution_count": 5,
     "metadata": {},
     "output_type": "execute_result"
    }
   ],
   "source": [
    "suspects[\"p_both_correct_%\"] = suspects[\"p_all_2\"] * 100\n",
    "suspects[[\"Settlement\", \"p_both_correct_%\"]]"
   ]
  },
  {
   "cell_type": "markdown",
   "metadata": {},
   "source": [
    "<a id=\"ent_2014_18_19_top\"></a>\n",
    "#### Top suspects for some irregularity in at least one of the 2014 general, 2018 general and 2019 (EP) elections\n",
    "\n",
    "Involving one more year's generic eletion data plausibly further increases the number of suspect locations.\n",
    "\n",
    "Below the probability for instance next to Eger (second column) means that there is a 0.55% chance (~ 1:180) that the values are regular in all three cases, i.e. nothing unusual took place that would have otherwise affected the uniform distribution of the last digits."
   ]
  },
  {
   "cell_type": "code",
   "execution_count": 6,
   "metadata": {},
   "outputs": [
    {
     "data": {
      "text/html": [
       "<div>\n",
       "<style scoped>\n",
       "    .dataframe tbody tr th:only-of-type {\n",
       "        vertical-align: middle;\n",
       "    }\n",
       "\n",
       "    .dataframe tbody tr th {\n",
       "        vertical-align: top;\n",
       "    }\n",
       "\n",
       "    .dataframe thead th {\n",
       "        text-align: right;\n",
       "    }\n",
       "</style>\n",
       "<table border=\"1\" class=\"dataframe\">\n",
       "  <thead>\n",
       "    <tr style=\"text-align: right;\">\n",
       "      <th></th>\n",
       "      <th>Settlement</th>\n",
       "      <th>p_all_3_%</th>\n",
       "      <th>p_2014</th>\n",
       "      <th>p_2018</th>\n",
       "      <th>p_2019</th>\n",
       "    </tr>\n",
       "  </thead>\n",
       "  <tbody>\n",
       "    <tr>\n",
       "      <th>0</th>\n",
       "      <td>Vecsés</td>\n",
       "      <td>0.010412</td>\n",
       "      <td>0.8518</td>\n",
       "      <td>0.3056</td>\n",
       "      <td>0.0004</td>\n",
       "    </tr>\n",
       "    <tr>\n",
       "      <th>1</th>\n",
       "      <td>Tata</td>\n",
       "      <td>0.014145</td>\n",
       "      <td>0.3879</td>\n",
       "      <td>0.0085</td>\n",
       "      <td>0.0429</td>\n",
       "    </tr>\n",
       "    <tr>\n",
       "      <th>2</th>\n",
       "      <td>Berettyóújfalu</td>\n",
       "      <td>0.036904</td>\n",
       "      <td>0.2664</td>\n",
       "      <td>0.0052</td>\n",
       "      <td>0.2664</td>\n",
       "    </tr>\n",
       "    <tr>\n",
       "      <th>3</th>\n",
       "      <td>Püspökladány</td>\n",
       "      <td>0.043300</td>\n",
       "      <td>0.0008</td>\n",
       "      <td>0.7237</td>\n",
       "      <td>0.7479</td>\n",
       "    </tr>\n",
       "    <tr>\n",
       "      <th>4</th>\n",
       "      <td>Balatonfüred</td>\n",
       "      <td>0.053966</td>\n",
       "      <td>0.4862</td>\n",
       "      <td>0.0281</td>\n",
       "      <td>0.0395</td>\n",
       "    </tr>\n",
       "    <tr>\n",
       "      <th>5</th>\n",
       "      <td>Fót</td>\n",
       "      <td>0.054121</td>\n",
       "      <td>0.6503</td>\n",
       "      <td>0.0824</td>\n",
       "      <td>0.0101</td>\n",
       "    </tr>\n",
       "    <tr>\n",
       "      <th>6</th>\n",
       "      <td>Mezőkövesd</td>\n",
       "      <td>0.061870</td>\n",
       "      <td>0.0656</td>\n",
       "      <td>0.0101</td>\n",
       "      <td>0.9338</td>\n",
       "    </tr>\n",
       "    <tr>\n",
       "      <th>7</th>\n",
       "      <td>Veresegyház</td>\n",
       "      <td>0.065345</td>\n",
       "      <td>0.0422</td>\n",
       "      <td>0.0775</td>\n",
       "      <td>0.1998</td>\n",
       "    </tr>\n",
       "    <tr>\n",
       "      <th>8</th>\n",
       "      <td>Pécel</td>\n",
       "      <td>0.173553</td>\n",
       "      <td>0.9144</td>\n",
       "      <td>0.3650</td>\n",
       "      <td>0.0052</td>\n",
       "    </tr>\n",
       "    <tr>\n",
       "      <th>9</th>\n",
       "      <td>Kerepes</td>\n",
       "      <td>0.205890</td>\n",
       "      <td>0.0281</td>\n",
       "      <td>0.4862</td>\n",
       "      <td>0.1507</td>\n",
       "    </tr>\n",
       "    <tr>\n",
       "      <th>10</th>\n",
       "      <td>Budapest II. kerület</td>\n",
       "      <td>0.206277</td>\n",
       "      <td>0.0317</td>\n",
       "      <td>0.2164</td>\n",
       "      <td>0.3007</td>\n",
       "    </tr>\n",
       "    <tr>\n",
       "      <th>11</th>\n",
       "      <td>Kisújszállás</td>\n",
       "      <td>0.217793</td>\n",
       "      <td>0.0281</td>\n",
       "      <td>0.2784</td>\n",
       "      <td>0.2784</td>\n",
       "    </tr>\n",
       "    <tr>\n",
       "      <th>12</th>\n",
       "      <td>Érd</td>\n",
       "      <td>0.356148</td>\n",
       "      <td>0.0301</td>\n",
       "      <td>0.3905</td>\n",
       "      <td>0.3030</td>\n",
       "    </tr>\n",
       "    <tr>\n",
       "      <th>13</th>\n",
       "      <td>Budapest XVI. kerület</td>\n",
       "      <td>0.513201</td>\n",
       "      <td>0.3536</td>\n",
       "      <td>0.1880</td>\n",
       "      <td>0.0772</td>\n",
       "    </tr>\n",
       "    <tr>\n",
       "      <th>14</th>\n",
       "      <td>Eger</td>\n",
       "      <td>0.551731</td>\n",
       "      <td>0.9846</td>\n",
       "      <td>0.1237</td>\n",
       "      <td>0.0453</td>\n",
       "    </tr>\n",
       "    <tr>\n",
       "      <th>15</th>\n",
       "      <td>Budapest XV. kerület</td>\n",
       "      <td>0.685477</td>\n",
       "      <td>0.8381</td>\n",
       "      <td>0.0113</td>\n",
       "      <td>0.7238</td>\n",
       "    </tr>\n",
       "    <tr>\n",
       "      <th>16</th>\n",
       "      <td>Dunaföldvár</td>\n",
       "      <td>0.700427</td>\n",
       "      <td>0.6419</td>\n",
       "      <td>0.0363</td>\n",
       "      <td>0.3006</td>\n",
       "    </tr>\n",
       "    <tr>\n",
       "      <th>17</th>\n",
       "      <td>Pilisvörösvár</td>\n",
       "      <td>0.847147</td>\n",
       "      <td>0.2784</td>\n",
       "      <td>0.2784</td>\n",
       "      <td>0.1093</td>\n",
       "    </tr>\n",
       "    <tr>\n",
       "      <th>18</th>\n",
       "      <td>Mezőtúr</td>\n",
       "      <td>0.912108</td>\n",
       "      <td>0.6503</td>\n",
       "      <td>0.0702</td>\n",
       "      <td>0.1998</td>\n",
       "    </tr>\n",
       "    <tr>\n",
       "      <th>19</th>\n",
       "      <td>Gárdony</td>\n",
       "      <td>0.985176</td>\n",
       "      <td>0.4296</td>\n",
       "      <td>0.8161</td>\n",
       "      <td>0.0281</td>\n",
       "    </tr>\n",
       "    <tr>\n",
       "      <th>20</th>\n",
       "      <td>Tiszaföldvár</td>\n",
       "      <td>1.222642</td>\n",
       "      <td>0.2784</td>\n",
       "      <td>0.4018</td>\n",
       "      <td>0.1093</td>\n",
       "    </tr>\n",
       "    <tr>\n",
       "      <th>21</th>\n",
       "      <td>Gyál</td>\n",
       "      <td>1.262087</td>\n",
       "      <td>0.2316</td>\n",
       "      <td>0.6472</td>\n",
       "      <td>0.0842</td>\n",
       "    </tr>\n",
       "    <tr>\n",
       "      <th>22</th>\n",
       "      <td>Maglód</td>\n",
       "      <td>1.295240</td>\n",
       "      <td>0.8161</td>\n",
       "      <td>0.4018</td>\n",
       "      <td>0.0395</td>\n",
       "    </tr>\n",
       "    <tr>\n",
       "      <th>23</th>\n",
       "      <td>Nagykálló</td>\n",
       "      <td>1.335136</td>\n",
       "      <td>0.4018</td>\n",
       "      <td>0.0827</td>\n",
       "      <td>0.4018</td>\n",
       "    </tr>\n",
       "    <tr>\n",
       "      <th>24</th>\n",
       "      <td>Budapest III. kerület</td>\n",
       "      <td>1.510579</td>\n",
       "      <td>0.8345</td>\n",
       "      <td>0.9680</td>\n",
       "      <td>0.0187</td>\n",
       "    </tr>\n",
       "    <tr>\n",
       "      <th>25</th>\n",
       "      <td>Keszthely</td>\n",
       "      <td>1.555344</td>\n",
       "      <td>0.0448</td>\n",
       "      <td>0.3750</td>\n",
       "      <td>0.9258</td>\n",
       "    </tr>\n",
       "    <tr>\n",
       "      <th>26</th>\n",
       "      <td>Sopron</td>\n",
       "      <td>1.632385</td>\n",
       "      <td>0.9837</td>\n",
       "      <td>0.5782</td>\n",
       "      <td>0.0287</td>\n",
       "    </tr>\n",
       "    <tr>\n",
       "      <th>27</th>\n",
       "      <td>Komárom</td>\n",
       "      <td>1.709428</td>\n",
       "      <td>0.4533</td>\n",
       "      <td>0.1155</td>\n",
       "      <td>0.3265</td>\n",
       "    </tr>\n",
       "    <tr>\n",
       "      <th>28</th>\n",
       "      <td>Százhalombatta</td>\n",
       "      <td>1.773287</td>\n",
       "      <td>0.3681</td>\n",
       "      <td>0.3102</td>\n",
       "      <td>0.1553</td>\n",
       "    </tr>\n",
       "    <tr>\n",
       "      <th>29</th>\n",
       "      <td>Budapest XVII. kerület</td>\n",
       "      <td>1.830039</td>\n",
       "      <td>0.8215</td>\n",
       "      <td>0.0280</td>\n",
       "      <td>0.7956</td>\n",
       "    </tr>\n",
       "    <tr>\n",
       "      <th>30</th>\n",
       "      <td>Budapest XI. kerület</td>\n",
       "      <td>2.328696</td>\n",
       "      <td>0.0333</td>\n",
       "      <td>0.7036</td>\n",
       "      <td>0.9939</td>\n",
       "    </tr>\n",
       "    <tr>\n",
       "      <th>31</th>\n",
       "      <td>Tapolca</td>\n",
       "      <td>2.438502</td>\n",
       "      <td>0.2163</td>\n",
       "      <td>0.9611</td>\n",
       "      <td>0.1173</td>\n",
       "    </tr>\n",
       "    <tr>\n",
       "      <th>32</th>\n",
       "      <td>Balatonalmádi</td>\n",
       "      <td>2.711807</td>\n",
       "      <td>0.0827</td>\n",
       "      <td>0.8161</td>\n",
       "      <td>0.4018</td>\n",
       "    </tr>\n",
       "    <tr>\n",
       "      <th>33</th>\n",
       "      <td>Diósd</td>\n",
       "      <td>2.993617</td>\n",
       "      <td>0.1093</td>\n",
       "      <td>0.2784</td>\n",
       "      <td>0.9838</td>\n",
       "    </tr>\n",
       "    <tr>\n",
       "      <th>34</th>\n",
       "      <td>Makó</td>\n",
       "      <td>3.081331</td>\n",
       "      <td>0.9914</td>\n",
       "      <td>0.2228</td>\n",
       "      <td>0.1395</td>\n",
       "    </tr>\n",
       "    <tr>\n",
       "      <th>35</th>\n",
       "      <td>Pásztó</td>\n",
       "      <td>3.140781</td>\n",
       "      <td>0.2212</td>\n",
       "      <td>0.2212</td>\n",
       "      <td>0.6419</td>\n",
       "    </tr>\n",
       "    <tr>\n",
       "      <th>36</th>\n",
       "      <td>Pomáz</td>\n",
       "      <td>3.194861</td>\n",
       "      <td>0.3681</td>\n",
       "      <td>0.8767</td>\n",
       "      <td>0.0990</td>\n",
       "    </tr>\n",
       "    <tr>\n",
       "      <th>37</th>\n",
       "      <td>Budapest VI. kerület</td>\n",
       "      <td>3.344018</td>\n",
       "      <td>0.3733</td>\n",
       "      <td>0.1141</td>\n",
       "      <td>0.7851</td>\n",
       "    </tr>\n",
       "    <tr>\n",
       "      <th>38</th>\n",
       "      <td>Oroszlány</td>\n",
       "      <td>3.529361</td>\n",
       "      <td>0.9338</td>\n",
       "      <td>0.5384</td>\n",
       "      <td>0.0702</td>\n",
       "    </tr>\n",
       "    <tr>\n",
       "      <th>39</th>\n",
       "      <td>Budapest XXII. kerület</td>\n",
       "      <td>3.791944</td>\n",
       "      <td>0.7210</td>\n",
       "      <td>0.1601</td>\n",
       "      <td>0.3285</td>\n",
       "    </tr>\n",
       "    <tr>\n",
       "      <th>40</th>\n",
       "      <td>Zalaegerszeg</td>\n",
       "      <td>3.839163</td>\n",
       "      <td>0.6091</td>\n",
       "      <td>0.9926</td>\n",
       "      <td>0.0635</td>\n",
       "    </tr>\n",
       "    <tr>\n",
       "      <th>41</th>\n",
       "      <td>Budapest V. kerület</td>\n",
       "      <td>3.947171</td>\n",
       "      <td>0.2775</td>\n",
       "      <td>0.1993</td>\n",
       "      <td>0.7137</td>\n",
       "    </tr>\n",
       "    <tr>\n",
       "      <th>42</th>\n",
       "      <td>Szentendre</td>\n",
       "      <td>4.718863</td>\n",
       "      <td>0.3694</td>\n",
       "      <td>0.9980</td>\n",
       "      <td>0.1280</td>\n",
       "    </tr>\n",
       "    <tr>\n",
       "      <th>43</th>\n",
       "      <td>Gyömrő</td>\n",
       "      <td>4.796469</td>\n",
       "      <td>0.7237</td>\n",
       "      <td>0.1231</td>\n",
       "      <td>0.5384</td>\n",
       "    </tr>\n",
       "  </tbody>\n",
       "</table>\n",
       "</div>"
      ],
      "text/plain": [
       "                Settlement  p_all_3_%  p_2014  p_2018  p_2019\n",
       "0                   Vecsés   0.010412  0.8518  0.3056  0.0004\n",
       "1                     Tata   0.014145  0.3879  0.0085  0.0429\n",
       "2           Berettyóújfalu   0.036904  0.2664  0.0052  0.2664\n",
       "3             Püspökladány   0.043300  0.0008  0.7237  0.7479\n",
       "4             Balatonfüred   0.053966  0.4862  0.0281  0.0395\n",
       "5                      Fót   0.054121  0.6503  0.0824  0.0101\n",
       "6               Mezőkövesd   0.061870  0.0656  0.0101  0.9338\n",
       "7              Veresegyház   0.065345  0.0422  0.0775  0.1998\n",
       "8                    Pécel   0.173553  0.9144  0.3650  0.0052\n",
       "9                  Kerepes   0.205890  0.0281  0.4862  0.1507\n",
       "10    Budapest II. kerület   0.206277  0.0317  0.2164  0.3007\n",
       "11            Kisújszállás   0.217793  0.0281  0.2784  0.2784\n",
       "12                     Érd   0.356148  0.0301  0.3905  0.3030\n",
       "13   Budapest XVI. kerület   0.513201  0.3536  0.1880  0.0772\n",
       "14                    Eger   0.551731  0.9846  0.1237  0.0453\n",
       "15    Budapest XV. kerület   0.685477  0.8381  0.0113  0.7238\n",
       "16             Dunaföldvár   0.700427  0.6419  0.0363  0.3006\n",
       "17           Pilisvörösvár   0.847147  0.2784  0.2784  0.1093\n",
       "18                 Mezőtúr   0.912108  0.6503  0.0702  0.1998\n",
       "19                 Gárdony   0.985176  0.4296  0.8161  0.0281\n",
       "20            Tiszaföldvár   1.222642  0.2784  0.4018  0.1093\n",
       "21                    Gyál   1.262087  0.2316  0.6472  0.0842\n",
       "22                  Maglód   1.295240  0.8161  0.4018  0.0395\n",
       "23               Nagykálló   1.335136  0.4018  0.0827  0.4018\n",
       "24   Budapest III. kerület   1.510579  0.8345  0.9680  0.0187\n",
       "25               Keszthely   1.555344  0.0448  0.3750  0.9258\n",
       "26                  Sopron   1.632385  0.9837  0.5782  0.0287\n",
       "27                 Komárom   1.709428  0.4533  0.1155  0.3265\n",
       "28          Százhalombatta   1.773287  0.3681  0.3102  0.1553\n",
       "29  Budapest XVII. kerület   1.830039  0.8215  0.0280  0.7956\n",
       "30    Budapest XI. kerület   2.328696  0.0333  0.7036  0.9939\n",
       "31                 Tapolca   2.438502  0.2163  0.9611  0.1173\n",
       "32           Balatonalmádi   2.711807  0.0827  0.8161  0.4018\n",
       "33                   Diósd   2.993617  0.1093  0.2784  0.9838\n",
       "34                    Makó   3.081331  0.9914  0.2228  0.1395\n",
       "35                  Pásztó   3.140781  0.2212  0.2212  0.6419\n",
       "36                   Pomáz   3.194861  0.3681  0.8767  0.0990\n",
       "37    Budapest VI. kerület   3.344018  0.3733  0.1141  0.7851\n",
       "38               Oroszlány   3.529361  0.9338  0.5384  0.0702\n",
       "39  Budapest XXII. kerület   3.791944  0.7210  0.1601  0.3285\n",
       "40            Zalaegerszeg   3.839163  0.6091  0.9926  0.0635\n",
       "41     Budapest V. kerület   3.947171  0.2775  0.1993  0.7137\n",
       "42              Szentendre   4.718863  0.3694  0.9980  0.1280\n",
       "43                  Gyömrő   4.796469  0.7237  0.1231  0.5384"
      ]
     },
     "execution_count": 6,
     "metadata": {},
     "output_type": "execute_result"
    }
   ],
   "source": [
    "suspects3[\"p_all_3_%\"] = suspects3[\"p_all_3\"] * 100 \n",
    "suspects3[[\"Settlement\", \"p_all_3_%\", \"p_2014\", \"p_2018\", \"p_2019\"]].loc[suspects3[\"p_all_3_%\"] <= 5]"
   ]
  },
  {
   "cell_type": "markdown",
   "metadata": {},
   "source": [
    "Is there really a bit of room for suspicion? Looking into e.g. the Balatonfüred data just slightly deeper - particularly the 2019 EP result for 4 (ex-?)major parties (Fidesz, Jobbik, DK, Momentum) reveals that the numbers do not seem to get any less irregular - just by the eye it is easy to spot that 4 never appears.\n",
    "\n",
    "A quick plot consistently appears to show an odd distribution.\n",
    "\n",
    "The corresponding p-value is 1.61% - note that it is a remarkable drop from the original 2019 probability, 3.95%."
   ]
  },
  {
   "cell_type": "code",
   "execution_count": 7,
   "metadata": {},
   "outputs": [
    {
     "name": "stdout",
     "output_type": "stream",
     "text": [
      "cdf for 32 was generated\n",
      "p = 1.61 %\n"
     ]
    },
    {
     "data": {
      "image/png": "[encoded data removed]",
      "text/plain": [
       "<Figure size 432x288 with 1 Axes>"
      ]
     },
     "metadata": {
      "needs_background": "light"
     },
     "output_type": "display_data"
    }
   ],
   "source": [
    "from preprocessing import get_preprocessed_data\n",
    "import matplotlib.pyplot as plt\n",
    "import numpy as np\n",
    "from drdigit.digit_entropy_distribution import get_entropy, prob_of_entr\n",
    "\n",
    "df_2019 = get_preprocessed_data()\n",
    "df_2019[df_2019.Telepules==\"Balatonfüred\"][[\"Fidesz\", \"Jobbik\", \"DK\", \"Momentum\"]]\n",
    "\n",
    "digits_Balatonfured = np.concatenate(df_2019[df_2019.Telepules==\"Balatonfüred\"]\n",
    "                                     [[\"Fidesz\", \"Jobbik\", \"DK\", \"Momentum\"]].values % 10)\n",
    "\n",
    "plt.hist(digits_Balatonfured, bins=10)\n",
    "\n",
    "p_Balatonfured = prob_of_entr(len(digits_Balatonfured), get_entropy(digits_Balatonfured))\n",
    "\n",
    "print(\"p = %.2f %%\" % (p_Balatonfured * 100))\n",
    "\n",
    "plt.title(\"Balatonfüred, 4 parties \\\"joint\\\", 2019, p = %.2f %%\" % (p_Balatonfured * 100))\n",
    "\n",
    "plt.show()"
   ]
  },
  {
   "cell_type": "markdown",
   "metadata": {},
   "source": [
    "### The 2014 data: Fidesz, Fidesz and Jobbik\n",
    "\n",
    "The 2014 data yields a handful of candidates when only looking at the Fidesz vote counts alone.\n",
    "\n",
    "#### Top 2014 candidates for irregularity in the number of Fidesz votes"
   ]
  },
  {
   "cell_type": "code",
   "execution_count": 8,
   "metadata": {},
   "outputs": [
    {
     "data": {
      "text/html": [
       "<div>\n",
       "<style scoped>\n",
       "    .dataframe tbody tr th:only-of-type {\n",
       "        vertical-align: middle;\n",
       "    }\n",
       "\n",
       "    .dataframe tbody tr th {\n",
       "        vertical-align: top;\n",
       "    }\n",
       "\n",
       "    .dataframe thead th {\n",
       "        text-align: right;\n",
       "    }\n",
       "</style>\n",
       "<table border=\"1\" class=\"dataframe\">\n",
       "  <thead>\n",
       "    <tr style=\"text-align: right;\">\n",
       "      <th></th>\n",
       "      <th>Settlement</th>\n",
       "      <th>p_2014</th>\n",
       "    </tr>\n",
       "  </thead>\n",
       "  <tbody>\n",
       "    <tr>\n",
       "      <th>502</th>\n",
       "      <td>Püspökladány</td>\n",
       "      <td>0.0008</td>\n",
       "    </tr>\n",
       "    <tr>\n",
       "      <th>63</th>\n",
       "      <td>Derecske</td>\n",
       "      <td>0.0027</td>\n",
       "    </tr>\n",
       "    <tr>\n",
       "      <th>90</th>\n",
       "      <td>Kerepes</td>\n",
       "      <td>0.0281</td>\n",
       "    </tr>\n",
       "    <tr>\n",
       "      <th>91</th>\n",
       "      <td>Kisújszállás</td>\n",
       "      <td>0.0281</td>\n",
       "    </tr>\n",
       "    <tr>\n",
       "      <th>223</th>\n",
       "      <td>Érd</td>\n",
       "      <td>0.0301</td>\n",
       "    </tr>\n",
       "    <tr>\n",
       "      <th>83</th>\n",
       "      <td>Budapest II. kerület</td>\n",
       "      <td>0.0317</td>\n",
       "    </tr>\n",
       "    <tr>\n",
       "      <th>550</th>\n",
       "      <td>Budapest XI. kerület</td>\n",
       "      <td>0.0333</td>\n",
       "    </tr>\n",
       "    <tr>\n",
       "      <th>407</th>\n",
       "      <td>Budapest IX. kerület</td>\n",
       "      <td>0.0411</td>\n",
       "    </tr>\n",
       "    <tr>\n",
       "      <th>30</th>\n",
       "      <td>Veresegyház</td>\n",
       "      <td>0.0422</td>\n",
       "    </tr>\n",
       "  </tbody>\n",
       "</table>\n",
       "</div>"
      ],
      "text/plain": [
       "               Settlement  p_2014\n",
       "502          Püspökladány  0.0008\n",
       "63               Derecske  0.0027\n",
       "90                Kerepes  0.0281\n",
       "91           Kisújszállás  0.0281\n",
       "223                   Érd  0.0301\n",
       "83   Budapest II. kerület  0.0317\n",
       "550  Budapest XI. kerület  0.0333\n",
       "407  Budapest IX. kerület  0.0411\n",
       "30            Veresegyház  0.0422"
      ]
     },
     "execution_count": 8,
     "metadata": {},
     "output_type": "execute_result"
    }
   ],
   "source": [
    "import app6_comparative as app6\n",
    "\n",
    "\n",
    "df_comparative, _, _, _, _, _ = app6.load_results()\n",
    "df_comparative.reset_index(inplace=True)\n",
    "df_comparative[[\"Settlement\", \"p_2014\"]][(df_comparative.p_2014 < 0.05) &\n",
    "                                         (df_comparative.count_2014 >= 8) &\n",
    "                                         (df_comparative.min_votes_2014 >= 100)] \\\n",
    "              .sort_values([\"p_2014\"])"
   ]
  },
  {
   "cell_type": "markdown",
   "metadata": {},
   "source": [
    "The entropy based verification should be more reliable over more sizable areas. There are 3 of the districts of the capital listed above. It is at least an interesting coincidence (?) that according to [[3](#ref_3)] two of those, namely the Budapest XI. and IX. districts (kerület) have seen Fidesz conquering an extraordinarily faint victory in that year (~2..5% ahead of the second candidate)."
   ]
  },
  {
   "cell_type": "markdown",
   "metadata": {},
   "source": [
    "#### The top 2014 candidates based on common irregularities in the number of votes of Fidesz and Jobbik\n",
    "\n",
    "Should the values be affected by some 'anomaly', assuming it is a consistent anomaly - a common habit, or \"hand\" - this should leave, albeit stochastic, consistent marks on the data.\n",
    "\n",
    "Since both the Fidesz and Jobbik parties frequently received numerous votes on this occasion, the Jobbik party vote last digits should also lend themselves for uniformity checks in several cases. (In case of small values, say in the range of 1..10, a downward bias is expected, as large values become less likely and this is reflected in the last digit - since that is the only digit. But as the values increase, this effect is expected to fade out.)\n",
    "Here a little relaxation of the number of votes constraint was applied, the minimum for Jobbik votes was 50 instead of 100 - the norm above."
   ]
  },
  {
   "cell_type": "code",
   "execution_count": 9,
   "metadata": {},
   "outputs": [
    {
     "data": {
      "text/html": [
       "<div>\n",
       "<style scoped>\n",
       "    .dataframe tbody tr th:only-of-type {\n",
       "        vertical-align: middle;\n",
       "    }\n",
       "\n",
       "    .dataframe tbody tr th {\n",
       "        vertical-align: top;\n",
       "    }\n",
       "\n",
       "    .dataframe thead th {\n",
       "        text-align: right;\n",
       "    }\n",
       "</style>\n",
       "<table border=\"1\" class=\"dataframe\">\n",
       "  <thead>\n",
       "    <tr style=\"text-align: right;\">\n",
       "      <th></th>\n",
       "      <th>Telepules</th>\n",
       "      <th>min_votes</th>\n",
       "      <th>Korzet_count</th>\n",
       "      <th>entropy</th>\n",
       "      <th>p</th>\n",
       "    </tr>\n",
       "  </thead>\n",
       "  <tbody>\n",
       "    <tr>\n",
       "      <th>0</th>\n",
       "      <td>Budaörs</td>\n",
       "      <td>52</td>\n",
       "      <td>40</td>\n",
       "      <td>2.095817</td>\n",
       "      <td>0.0834</td>\n",
       "    </tr>\n",
       "    <tr>\n",
       "      <th>1</th>\n",
       "      <td>Bátonyterenye</td>\n",
       "      <td>57</td>\n",
       "      <td>30</td>\n",
       "      <td>1.985231</td>\n",
       "      <td>0.0448</td>\n",
       "    </tr>\n",
       "    <tr>\n",
       "      <th>2</th>\n",
       "      <td>Edelény</td>\n",
       "      <td>120</td>\n",
       "      <td>16</td>\n",
       "      <td>1.771016</td>\n",
       "      <td>0.0868</td>\n",
       "    </tr>\n",
       "    <tr>\n",
       "      <th>3</th>\n",
       "      <td>Kerepes</td>\n",
       "      <td>100</td>\n",
       "      <td>16</td>\n",
       "      <td>1.721402</td>\n",
       "      <td>0.0541</td>\n",
       "    </tr>\n",
       "    <tr>\n",
       "      <th>4</th>\n",
       "      <td>Pomáz</td>\n",
       "      <td>54</td>\n",
       "      <td>32</td>\n",
       "      <td>1.956679</td>\n",
       "      <td>0.0141</td>\n",
       "    </tr>\n",
       "    <tr>\n",
       "      <th>5</th>\n",
       "      <td>Pásztó</td>\n",
       "      <td>54</td>\n",
       "      <td>18</td>\n",
       "      <td>1.798106</td>\n",
       "      <td>0.0639</td>\n",
       "    </tr>\n",
       "    <tr>\n",
       "      <th>6</th>\n",
       "      <td>Püspökladány</td>\n",
       "      <td>118</td>\n",
       "      <td>32</td>\n",
       "      <td>1.879748</td>\n",
       "      <td>0.0020</td>\n",
       "    </tr>\n",
       "    <tr>\n",
       "      <th>7</th>\n",
       "      <td>Szeged</td>\n",
       "      <td>50</td>\n",
       "      <td>218</td>\n",
       "      <td>2.264374</td>\n",
       "      <td>0.0586</td>\n",
       "    </tr>\n",
       "    <tr>\n",
       "      <th>8</th>\n",
       "      <td>Szigethalom</td>\n",
       "      <td>82</td>\n",
       "      <td>32</td>\n",
       "      <td>2.018515</td>\n",
       "      <td>0.0560</td>\n",
       "    </tr>\n",
       "  </tbody>\n",
       "</table>\n",
       "</div>"
      ],
      "text/plain": [
       "       Telepules  min_votes  Korzet_count   entropy       p\n",
       "0        Budaörs         52            40  2.095817  0.0834\n",
       "1  Bátonyterenye         57            30  1.985231  0.0448\n",
       "2        Edelény        120            16  1.771016  0.0868\n",
       "3        Kerepes        100            16  1.721402  0.0541\n",
       "4          Pomáz         54            32  1.956679  0.0141\n",
       "5         Pásztó         54            18  1.798106  0.0639\n",
       "6   Püspökladány        118            32  1.879748  0.0020\n",
       "7         Szeged         50           218  2.264374  0.0586\n",
       "8    Szigethalom         82            32  2.018515  0.0560"
      ]
     },
     "execution_count": 9,
     "metadata": {},
     "output_type": "execute_result"
    }
   ],
   "source": [
    "import app7_fidesz_vs_jobbik as app7\n",
    "\n",
    "\n",
    "_, suspects = app7.load_results()\n",
    "suspects\n"
   ]
  },
  {
   "cell_type": "markdown",
   "metadata": {},
   "source": [
    "This comparison of the distribution of the then leading two parties, Fidesz and Jobbik, suggests that the Szeged (one of the larger cities in Hungary, representing about 1.6% of the population) area could have really deserved some close attention - whether or not certain suspect efforts (if any) have reached their goal."
   ]
  },
  {
   "cell_type": "code",
   "execution_count": 10,
   "metadata": {},
   "outputs": [
    {
     "data": {
      "image/png": "[encoded data removed]",
      "text/plain": [
       "<Figure size 432x288 with 1 Axes>"
      ]
     },
     "metadata": {
      "needs_background": "light"
     },
     "output_type": "display_data"
    }
   ],
   "source": [
    "import AndrasKalman.load\n",
    "\n",
    "AndrasKalman.load.plot_location(\"Szeged\")"
   ]
  },
  {
   "cell_type": "markdown",
   "metadata": {},
   "source": [
    "<a id=\"digit_repeats\"></a>\n",
    "### Irregularity in consecutively repeating last digits in the data sets\n",
    "\n",
    "Another way of finding traces of human bias (whether it is unintentional) among the digits is to find how often the last digits of consecutive numbers match and employ some statistic on this frequency. Such repetitions apparently take place with a surprising frequency in some cases.\n",
    "\n",
    "Albeit [[8]](#ref_8) mentions that digit repetition tends to be avoided (\"Without  exception,subjects avoided repetition in their sequences, rarely creating repetitive pairs or triplets\") we can also suspect that known fraudulent behaviours will be likely avoided by subjects, thus this is examined as below.\n",
    "\n",
    "However it would be also reasonable to test for the deviation towards avoiding the repetitions as well (this could take place in the future).\n",
    "\n",
    "#### The top candidates (at most 10% likeliness of regularity) for 2019"
   ]
  },
  {
   "cell_type": "code",
   "execution_count": 11,
   "metadata": {},
   "outputs": [
    {
     "data": {
      "text/html": [
       "<div>\n",
       "<style scoped>\n",
       "    .dataframe tbody tr th:only-of-type {\n",
       "        vertical-align: middle;\n",
       "    }\n",
       "\n",
       "    .dataframe tbody tr th {\n",
       "        vertical-align: top;\n",
       "    }\n",
       "\n",
       "    .dataframe thead th {\n",
       "        text-align: right;\n",
       "    }\n",
       "</style>\n",
       "<table border=\"1\" class=\"dataframe\">\n",
       "  <thead>\n",
       "    <tr style=\"text-align: right;\">\n",
       "      <th></th>\n",
       "      <th>Telepules</th>\n",
       "      <th>p_ld_Fidesz_twins_2019</th>\n",
       "    </tr>\n",
       "  </thead>\n",
       "  <tbody>\n",
       "    <tr>\n",
       "      <th>0</th>\n",
       "      <td>Eger</td>\n",
       "      <td>0.000422</td>\n",
       "    </tr>\n",
       "    <tr>\n",
       "      <th>1</th>\n",
       "      <td>Maglód</td>\n",
       "      <td>0.002728</td>\n",
       "    </tr>\n",
       "    <tr>\n",
       "      <th>2</th>\n",
       "      <td>Tapolca</td>\n",
       "      <td>0.044133</td>\n",
       "    </tr>\n",
       "    <tr>\n",
       "      <th>3</th>\n",
       "      <td>Gyömrő</td>\n",
       "      <td>0.055556</td>\n",
       "    </tr>\n",
       "    <tr>\n",
       "      <th>4</th>\n",
       "      <td>Veresegyház</td>\n",
       "      <td>0.055556</td>\n",
       "    </tr>\n",
       "    <tr>\n",
       "      <th>5</th>\n",
       "      <td>Debrecen</td>\n",
       "      <td>0.085127</td>\n",
       "    </tr>\n",
       "  </tbody>\n",
       "</table>\n",
       "</div>"
      ],
      "text/plain": [
       "     Telepules  p_ld_Fidesz_twins_2019\n",
       "0         Eger                0.000422\n",
       "1       Maglód                0.002728\n",
       "2      Tapolca                0.044133\n",
       "3       Gyömrő                0.055556\n",
       "4  Veresegyház                0.055556\n",
       "5     Debrecen                0.085127"
      ]
     },
     "execution_count": 11,
     "metadata": {},
     "output_type": "execute_result"
    }
   ],
   "source": [
    "import app8_prob_of_twin_digits as app8\n",
    "\n",
    "app8_df, app8_suspects = app8.load_results()\n",
    "\n",
    "app8_df[[\"Telepules\", \"p_ld_Fidesz_twins_2019\"]].loc[\n",
    "    (app8_df[\"p_ld_Fidesz_twins_2019\"] < 0.1) &\n",
    "    (app8_df[\"n_wards_2019\"] >= 8) &\n",
    "    (app8_df[\"min_Fidesz_votes_2019\"] >= 100)\n",
    "].sort_values([\n",
    "    \"p_ld_Fidesz_twins_2019\"\n",
    "]).reset_index().drop(columns=[\"index\"])"
   ]
  },
  {
   "cell_type": "markdown",
   "metadata": {},
   "source": [
    "#### The 2018 candidates\n",
    "\n",
    "Interestingly, the 2018 candidates are more numerous:"
   ]
  },
  {
   "cell_type": "code",
   "execution_count": 12,
   "metadata": {},
   "outputs": [
    {
     "data": {
      "text/html": [
       "<div>\n",
       "<style scoped>\n",
       "    .dataframe tbody tr th:only-of-type {\n",
       "        vertical-align: middle;\n",
       "    }\n",
       "\n",
       "    .dataframe tbody tr th {\n",
       "        vertical-align: top;\n",
       "    }\n",
       "\n",
       "    .dataframe thead th {\n",
       "        text-align: right;\n",
       "    }\n",
       "</style>\n",
       "<table border=\"1\" class=\"dataframe\">\n",
       "  <thead>\n",
       "    <tr style=\"text-align: right;\">\n",
       "      <th></th>\n",
       "      <th>Telepules</th>\n",
       "      <th>p_ld_Fidesz_twins_2018</th>\n",
       "    </tr>\n",
       "  </thead>\n",
       "  <tbody>\n",
       "    <tr>\n",
       "      <th>0</th>\n",
       "      <td>Berettyóújfalu</td>\n",
       "      <td>0.012720</td>\n",
       "    </tr>\n",
       "    <tr>\n",
       "      <th>1</th>\n",
       "      <td>Százhalombatta</td>\n",
       "      <td>0.012720</td>\n",
       "    </tr>\n",
       "    <tr>\n",
       "      <th>2</th>\n",
       "      <td>Dabas</td>\n",
       "      <td>0.012720</td>\n",
       "    </tr>\n",
       "    <tr>\n",
       "      <th>3</th>\n",
       "      <td>Baja</td>\n",
       "      <td>0.030563</td>\n",
       "    </tr>\n",
       "    <tr>\n",
       "      <th>4</th>\n",
       "      <td>Hajdúsámson</td>\n",
       "      <td>0.038092</td>\n",
       "    </tr>\n",
       "    <tr>\n",
       "      <th>5</th>\n",
       "      <td>Budapest V. kerület</td>\n",
       "      <td>0.043174</td>\n",
       "    </tr>\n",
       "    <tr>\n",
       "      <th>6</th>\n",
       "      <td>Budapest XXII. kerület</td>\n",
       "      <td>0.062828</td>\n",
       "    </tr>\n",
       "    <tr>\n",
       "      <th>7</th>\n",
       "      <td>Budapest XVI. kerület</td>\n",
       "      <td>0.066589</td>\n",
       "    </tr>\n",
       "    <tr>\n",
       "      <th>8</th>\n",
       "      <td>Komárom</td>\n",
       "      <td>0.068406</td>\n",
       "    </tr>\n",
       "    <tr>\n",
       "      <th>9</th>\n",
       "      <td>Budapest XXI. kerület</td>\n",
       "      <td>0.080480</td>\n",
       "    </tr>\n",
       "  </tbody>\n",
       "</table>\n",
       "</div>"
      ],
      "text/plain": [
       "                Telepules  p_ld_Fidesz_twins_2018\n",
       "0          Berettyóújfalu                0.012720\n",
       "1          Százhalombatta                0.012720\n",
       "2                   Dabas                0.012720\n",
       "3                    Baja                0.030563\n",
       "4             Hajdúsámson                0.038092\n",
       "5     Budapest V. kerület                0.043174\n",
       "6  Budapest XXII. kerület                0.062828\n",
       "7   Budapest XVI. kerület                0.066589\n",
       "8                 Komárom                0.068406\n",
       "9   Budapest XXI. kerület                0.080480"
      ]
     },
     "execution_count": 12,
     "metadata": {},
     "output_type": "execute_result"
    }
   ],
   "source": [
    "app8_df[[\"Telepules\", \"p_ld_Fidesz_twins_2018\"]].loc[\n",
    "    (app8_df[\"p_ld_Fidesz_twins_2018\"] < 0.1) &\n",
    "    (app8_df[\"n_wards_2018\"] >= 8) &\n",
    "    (app8_df[\"min_Fidesz_votes_2018\"] >= 100)\n",
    "].sort_values([\n",
    "    \"p_ld_Fidesz_twins_2018\"\n",
    "]).reset_index().drop(columns=[\"index\"])"
   ]
  },
  {
   "cell_type": "markdown",
   "metadata": {},
   "source": [
    "The top suspects which are unlikely (at most 5% likely) to be regular in each of 2019, 2018 and 2014 in this respect are listed below."
   ]
  },
  {
   "cell_type": "code",
   "execution_count": 13,
   "metadata": {},
   "outputs": [
    {
     "data": {
      "text/html": [
       "<div>\n",
       "<style scoped>\n",
       "    .dataframe tbody tr th:only-of-type {\n",
       "        vertical-align: middle;\n",
       "    }\n",
       "\n",
       "    .dataframe tbody tr th {\n",
       "        vertical-align: top;\n",
       "    }\n",
       "\n",
       "    .dataframe thead th {\n",
       "        text-align: right;\n",
       "    }\n",
       "</style>\n",
       "<table border=\"1\" class=\"dataframe\">\n",
       "  <thead>\n",
       "    <tr style=\"text-align: right;\">\n",
       "      <th></th>\n",
       "      <th>Telepules</th>\n",
       "      <th>p_all_regular</th>\n",
       "    </tr>\n",
       "  </thead>\n",
       "  <tbody>\n",
       "    <tr>\n",
       "      <th>0</th>\n",
       "      <td>Eger</td>\n",
       "      <td>0.000177</td>\n",
       "    </tr>\n",
       "    <tr>\n",
       "      <th>1</th>\n",
       "      <td>Berettyóújfalu</td>\n",
       "      <td>0.000561</td>\n",
       "    </tr>\n",
       "    <tr>\n",
       "      <th>2</th>\n",
       "      <td>Maglód</td>\n",
       "      <td>0.001423</td>\n",
       "    </tr>\n",
       "    <tr>\n",
       "      <th>3</th>\n",
       "      <td>Gyömrő</td>\n",
       "      <td>0.001882</td>\n",
       "    </tr>\n",
       "    <tr>\n",
       "      <th>4</th>\n",
       "      <td>Százhalombatta</td>\n",
       "      <td>0.004555</td>\n",
       "    </tr>\n",
       "    <tr>\n",
       "      <th>5</th>\n",
       "      <td>Komárom</td>\n",
       "      <td>0.005473</td>\n",
       "    </tr>\n",
       "    <tr>\n",
       "      <th>6</th>\n",
       "      <td>Budapest XVI. kerület</td>\n",
       "      <td>0.007467</td>\n",
       "    </tr>\n",
       "    <tr>\n",
       "      <th>7</th>\n",
       "      <td>Püspökladány</td>\n",
       "      <td>0.008120</td>\n",
       "    </tr>\n",
       "    <tr>\n",
       "      <th>8</th>\n",
       "      <td>Dabas</td>\n",
       "      <td>0.010101</td>\n",
       "    </tr>\n",
       "    <tr>\n",
       "      <th>9</th>\n",
       "      <td>Balatonfüred</td>\n",
       "      <td>0.011691</td>\n",
       "    </tr>\n",
       "    <tr>\n",
       "      <th>10</th>\n",
       "      <td>Kerepes</td>\n",
       "      <td>0.011691</td>\n",
       "    </tr>\n",
       "    <tr>\n",
       "      <th>11</th>\n",
       "      <td>Tapolca</td>\n",
       "      <td>0.014138</td>\n",
       "    </tr>\n",
       "    <tr>\n",
       "      <th>12</th>\n",
       "      <td>Mosonmagyaróvár</td>\n",
       "      <td>0.017145</td>\n",
       "    </tr>\n",
       "    <tr>\n",
       "      <th>13</th>\n",
       "      <td>Budapest XI. kerület</td>\n",
       "      <td>0.020869</td>\n",
       "    </tr>\n",
       "    <tr>\n",
       "      <th>14</th>\n",
       "      <td>Kisújszállás</td>\n",
       "      <td>0.022408</td>\n",
       "    </tr>\n",
       "    <tr>\n",
       "      <th>15</th>\n",
       "      <td>Budapest V. kerület</td>\n",
       "      <td>0.023068</td>\n",
       "    </tr>\n",
       "    <tr>\n",
       "      <th>16</th>\n",
       "      <td>Balatonalmádi</td>\n",
       "      <td>0.025691</td>\n",
       "    </tr>\n",
       "    <tr>\n",
       "      <th>17</th>\n",
       "      <td>Tolna</td>\n",
       "      <td>0.027129</td>\n",
       "    </tr>\n",
       "    <tr>\n",
       "      <th>18</th>\n",
       "      <td>Budapest XII. kerület</td>\n",
       "      <td>0.031431</td>\n",
       "    </tr>\n",
       "    <tr>\n",
       "      <th>19</th>\n",
       "      <td>Érd</td>\n",
       "      <td>0.033878</td>\n",
       "    </tr>\n",
       "    <tr>\n",
       "      <th>20</th>\n",
       "      <td>Debrecen</td>\n",
       "      <td>0.037925</td>\n",
       "    </tr>\n",
       "    <tr>\n",
       "      <th>21</th>\n",
       "      <td>Hajdúsámson</td>\n",
       "      <td>0.038092</td>\n",
       "    </tr>\n",
       "    <tr>\n",
       "      <th>22</th>\n",
       "      <td>Tiszaföldvár</td>\n",
       "      <td>0.040743</td>\n",
       "    </tr>\n",
       "    <tr>\n",
       "      <th>23</th>\n",
       "      <td>Veresegyház</td>\n",
       "      <td>0.045261</td>\n",
       "    </tr>\n",
       "  </tbody>\n",
       "</table>\n",
       "</div>"
      ],
      "text/plain": [
       "                Telepules  p_all_regular\n",
       "0                    Eger       0.000177\n",
       "1          Berettyóújfalu       0.000561\n",
       "2                  Maglód       0.001423\n",
       "3                  Gyömrő       0.001882\n",
       "4          Százhalombatta       0.004555\n",
       "5                 Komárom       0.005473\n",
       "6   Budapest XVI. kerület       0.007467\n",
       "7            Püspökladány       0.008120\n",
       "8                   Dabas       0.010101\n",
       "9            Balatonfüred       0.011691\n",
       "10                Kerepes       0.011691\n",
       "11                Tapolca       0.014138\n",
       "12        Mosonmagyaróvár       0.017145\n",
       "13   Budapest XI. kerület       0.020869\n",
       "14           Kisújszállás       0.022408\n",
       "15    Budapest V. kerület       0.023068\n",
       "16          Balatonalmádi       0.025691\n",
       "17                  Tolna       0.027129\n",
       "18  Budapest XII. kerület       0.031431\n",
       "19                    Érd       0.033878\n",
       "20               Debrecen       0.037925\n",
       "21            Hajdúsámson       0.038092\n",
       "22           Tiszaföldvár       0.040743\n",
       "23            Veresegyház       0.045261"
      ]
     },
     "execution_count": 13,
     "metadata": {},
     "output_type": "execute_result"
    }
   ],
   "source": [
    "app8_suspects[[\"Telepules\", \"p_all_regular\"]]"
   ]
  },
  {
   "cell_type": "markdown",
   "metadata": {},
   "source": [
    "<a id=\"overhearing\"></a>\n",
    "# Overhearing\n",
    "\n",
    "Imagine for a second that not everything goes picture perfect.\n",
    "Anne is about to write down a digit, and Beatrix is dictating a counting result to Carl. Wouldn't it be likely for Anne to get confused, and write down - even just out of an inattentive moment - the wrong one?\n",
    "Or when looking at a form, it can be tempting to enter a digit recently written - once again.\n",
    "Of course, in a difficult to distinguish fraudulent setup, it could also serve as the kiss of the muse when trying to fill up the less relevant last digit holes in the digit sequence.\n",
    "Anyhow, the series of digits would more frequently than expected, coincide.\n",
    "\n",
    "The app14 file is operating along these lines.\n",
    "\n",
    "The results suggest that some degree of overhearing can very easily be present in the data (for sufficiently large settlements) in case of the valid votes (\"Ervenyes\") column/those of the Fidesz party vs. other major parties.\n",
    "\n",
    "It seemed particularly difficult to find a simple way to look for small effects that may affect data in a dispersed form, partly because apart from the numbers of Fidesz, and the valid votes, most recent values relating to the elections were not hitting a \"$\\ge 100$\" mark too often, and anomalies were generally expected to be heterogeneous.\n",
    "\n",
    "However, this aspect seems to be of the more feasible ones. The result is shown on the below chart."
   ]
  },
  {
   "cell_type": "code",
   "execution_count": 14,
   "metadata": {},
   "outputs": [
    {
     "data": {
      "image/png": "[encoded data removed]",
      "text/plain": [
       "<Figure size 432x288 with 1 Axes>"
      ]
     },
     "metadata": {
      "needs_background": "light"
     },
     "output_type": "display_data"
    }
   ],
   "source": [
    "import app14_digit_correlations_Hun as app14\n",
    "\n",
    "app14.plot_equality_tests()"
   ]
  },
  {
   "cell_type": "markdown",
   "metadata": {},
   "source": [
    "What we find is that this takes place with a $\\lt$ 1% (approximately 0.5%) likeliness, meaning that we can reject the null hypothesis of the data being accurately recorded in this respect with a 95%+ confidence.\n"
   ]
  },
  {
   "cell_type": "markdown",
   "metadata": {},
   "source": [
    "### Overhearing top 10\n",
    "\n",
    "We can construct a top list based on the ratio of the likeliness of hits vs. the expected likeliness given our simulations. The top 10 least likely municipalities are listed below."
   ]
  },
  {
   "cell_type": "code",
   "execution_count": 15,
   "metadata": {
    "scrolled": false
   },
   "outputs": [
    {
     "data": {
      "text/html": [
       "<div>\n",
       "<style scoped>\n",
       "    .dataframe tbody tr th:only-of-type {\n",
       "        vertical-align: middle;\n",
       "    }\n",
       "\n",
       "    .dataframe tbody tr th {\n",
       "        vertical-align: top;\n",
       "    }\n",
       "\n",
       "    .dataframe thead th {\n",
       "        text-align: right;\n",
       "    }\n",
       "</style>\n",
       "<table border=\"1\" class=\"dataframe\">\n",
       "  <thead>\n",
       "    <tr style=\"text-align: right;\">\n",
       "      <th></th>\n",
       "      <th>Telepules</th>\n",
       "      <th>rel_mean_prob_%</th>\n",
       "    </tr>\n",
       "  </thead>\n",
       "  <tbody>\n",
       "    <tr>\n",
       "      <th>1</th>\n",
       "      <td>Mezőberény</td>\n",
       "      <td>41.319190</td>\n",
       "    </tr>\n",
       "    <tr>\n",
       "      <th>2</th>\n",
       "      <td>Tótkomlós</td>\n",
       "      <td>42.886785</td>\n",
       "    </tr>\n",
       "    <tr>\n",
       "      <th>3</th>\n",
       "      <td>Nagykálló</td>\n",
       "      <td>51.205612</td>\n",
       "    </tr>\n",
       "    <tr>\n",
       "      <th>4</th>\n",
       "      <td>Karcag</td>\n",
       "      <td>52.483571</td>\n",
       "    </tr>\n",
       "    <tr>\n",
       "      <th>5</th>\n",
       "      <td>Körmend</td>\n",
       "      <td>53.569056</td>\n",
       "    </tr>\n",
       "    <tr>\n",
       "      <th>6</th>\n",
       "      <td>Püspökladány</td>\n",
       "      <td>53.948924</td>\n",
       "    </tr>\n",
       "    <tr>\n",
       "      <th>7</th>\n",
       "      <td>Isaszeg</td>\n",
       "      <td>55.219911</td>\n",
       "    </tr>\n",
       "    <tr>\n",
       "      <th>8</th>\n",
       "      <td>Budapest XX. kerület</td>\n",
       "      <td>57.182143</td>\n",
       "    </tr>\n",
       "    <tr>\n",
       "      <th>9</th>\n",
       "      <td>Dabas</td>\n",
       "      <td>57.893208</td>\n",
       "    </tr>\n",
       "    <tr>\n",
       "      <th>10</th>\n",
       "      <td>Csongrád</td>\n",
       "      <td>58.013022</td>\n",
       "    </tr>\n",
       "  </tbody>\n",
       "</table>\n",
       "</div>"
      ],
      "text/plain": [
       "               Telepules  rel_mean_prob_%\n",
       "1             Mezőberény        41.319190\n",
       "2              Tótkomlós        42.886785\n",
       "3              Nagykálló        51.205612\n",
       "4                 Karcag        52.483571\n",
       "5                Körmend        53.569056\n",
       "6           Püspökladány        53.948924\n",
       "7                Isaszeg        55.219911\n",
       "8   Budapest XX. kerület        57.182143\n",
       "9                  Dabas        57.893208\n",
       "10              Csongrád        58.013022"
      ]
     },
     "execution_count": 15,
     "metadata": {},
     "output_type": "execute_result"
    }
   ],
   "source": [
    "_, top_list = app14.get_top_list(n_top=10)\n",
    "\n",
    "top_list[\"rel_mean_prob_%\"] = 100 * top_list[\"rel_mean_prob\"]\n",
    "top_list[[\"Telepules\", \"rel_mean_prob_%\"]]"
   ]
  },
  {
   "cell_type": "markdown",
   "metadata": {},
   "source": [
    "Note that these probabilities are the geometric mean likeliness of each examined \"base\" column (Fidesz, valid votes) vs. major party (DK, Momentum, Jobbik, MSZP, LMP) pairs, and thus the actual likeliness of no unusual relationship is far lower, being the product of a number of values centered around this one on a logarithmic scale, relative to a (simulated) base probability calculated per each municipality. These products are to be subject to further examination and are only used for ranking at this point.)\n",
    "\n",
    "Why the \"base\" columns were considered suitable is more detailed in the Appendix."
   ]
  },
  {
   "cell_type": "markdown",
   "metadata": {},
   "source": [
    "# Overall top 45\n",
    "\n",
    "An overall list can be compiled using a cumulative score (here it was chosen to be the product of the various probabilities) in ascending likeliness (decreasing unlikeliness).\n",
    "\n",
    "There are 183 sufficiently sizeable municipalities, about 25% of those, the first 45 were listed out.\n",
    "\n",
    "### Overall top 45 for the last 3 considered elections"
   ]
  },
  {
   "cell_type": "code",
   "execution_count": 16,
   "metadata": {},
   "outputs": [
    {
     "name": "stdout",
     "output_type": "stream",
     "text": [
      "                  Telepules             p\n",
      "0            Berettyóújfalu  2.038979e-07\n",
      "1                      Eger  8.351911e-07\n",
      "2              Püspökladány  1.896902e-06\n",
      "3              Balatonfüred  5.211178e-06\n",
      "4                     Lenti  1.620289e-05\n",
      "5                      Baja  1.761910e-05\n",
      "6               Veresegyház  2.386041e-05\n",
      "7                    Maglód  2.432056e-05\n",
      "8                   Kerepes  2.920806e-05\n",
      "9              Kisújszállás  3.157225e-05\n",
      "10                   Vecsés  3.855783e-05\n",
      "11    Budapest XVI. kerület  5.087598e-05\n",
      "12                  Komárom  7.125105e-05\n",
      "13                     Tata  7.293916e-05\n",
      "14                      Fót  8.463987e-05\n",
      "15                      Érd  9.414289e-05\n",
      "16                Tótkomlós  9.630880e-05\n",
      "17                     Ócsa  9.647265e-05\n",
      "18                   Gyömrő  9.842276e-05\n",
      "19              Nagykanizsa  1.135056e-04\n",
      "20           Százhalombatta  1.502377e-04\n",
      "21            Bátonyterenye  1.663978e-04\n",
      "22                    Pécel  1.861115e-04\n",
      "23  Budapest XXIII. kerület  1.977246e-04\n",
      "24                  Tapolca  2.670721e-04\n",
      "25                   Putnok  2.789320e-04\n",
      "26               Mezőkövesd  2.925806e-04\n",
      "27     Budapest II. kerület  3.118998e-04\n",
      "28             Tiszaföldvár  4.245463e-04\n",
      "29                 Veszprém  4.584071e-04\n",
      "30                  Marcali  5.356519e-04\n",
      "31            Balatonalmádi  5.587394e-04\n",
      "32     Budapest XI. kerület  5.887033e-04\n",
      "33                 Dombóvár  6.664074e-04\n",
      "34      Budapest V. kerület  7.028309e-04\n",
      "35            Pilisvörösvár  7.387343e-04\n",
      "36    Budapest XXI. kerület  7.679850e-04\n",
      "37                Esztergom  8.240161e-04\n",
      "38               Békéscsaba  8.554228e-04\n",
      "39                    Dabas  9.785246e-04\n",
      "40     Budapest XV. kerület  1.128509e-03\n",
      "41                Keszthely  1.182182e-03\n",
      "42             Tiszavasvári  1.235306e-03\n",
      "43                      Göd  1.262429e-03\n",
      "44          Mosonmagyaróvár  1.294870e-03\n"
     ]
    }
   ],
   "source": [
    "import app15_overall_ranking as app15\n",
    "\n",
    "df = app15.get_overall_list_all_3_years()\n",
    "\n",
    "print(df.head(45)[[\"Telepules\", \"p\"]])"
   ]
  },
  {
   "cell_type": "markdown",
   "metadata": {},
   "source": [
    "<a id='overall_top_45_for_last_2'></a>\n",
    "### Overall top 45 suspicious settlements for the last 2 considered elections\n",
    "\n",
    "It is probably more interesting to focus on more recent events so that enough attention can be paid to prevent the most likely recent mistakes (if any) from recurring.\n",
    "\n",
    "Fortunately there have been at least a couple of events recently and the third one is just around the bend, hopefully providing a good chance as local pecularities, such as personnel, are less likely to change over shorter periods."
   ]
  },
  {
   "cell_type": "code",
   "execution_count": 17,
   "metadata": {},
   "outputs": [
    {
     "name": "stdout",
     "output_type": "stream",
     "text": [
      "                  Telepules         p\n",
      "0                      Eger  0.000002\n",
      "1            Berettyóújfalu  0.000014\n",
      "2                    Maglód  0.000030\n",
      "3                    Vecsés  0.000050\n",
      "4              Balatonfüred  0.000072\n",
      "5                       Fót  0.000130\n",
      "6                      Ócsa  0.000160\n",
      "7     Budapest XVI. kerület  0.000169\n",
      "8                      Tata  0.000188\n",
      "9             Bátonyterenye  0.000308\n",
      "10           Százhalombatta  0.000514\n",
      "11              Veresegyház  0.000565\n",
      "12                    Pécel  0.000673\n",
      "13                     Baja  0.000688\n",
      "14                    Lenti  0.000707\n",
      "15                   Gyömrő  0.000739\n",
      "16                 Dombóvár  0.000806\n",
      "17                   Putnok  0.001100\n",
      "18                    Dabas  0.001116\n",
      "19               Békéscsaba  0.001251\n",
      "20              Nagykanizsa  0.001416\n",
      "21  Budapest XXIII. kerület  0.001493\n",
      "22                  Komárom  0.001601\n",
      "23                  Tapolca  0.001601\n",
      "24                      Mór  0.001781\n",
      "25                      Göd  0.002464\n",
      "26             Tiszavasvári  0.003060\n",
      "27                 Orosháza  0.003329\n",
      "28                  Marcali  0.004162\n",
      "29      Budapest V. kerület  0.004164\n",
      "30                  Mezőtúr  0.004536\n",
      "31    Budapest XXI. kerület  0.004674\n",
      "32   Budapest XXII. kerület  0.004677\n",
      "33               Mezőkövesd  0.005616\n",
      "34              Hajdúsámson  0.006290\n",
      "35                  Kerepes  0.006944\n",
      "36             Kisújszállás  0.007506\n",
      "37                   Sopron  0.008299\n",
      "38     Budapest XV. kerület  0.008492\n",
      "39                 Veszprém  0.008655\n",
      "40                  Gárdony  0.009309\n",
      "41             Zalaegerszeg  0.010127\n",
      "42             Tiszaföldvár  0.010187\n",
      "43                    Gyula  0.010452\n",
      "44    Budapest III. kerület  0.011385\n"
     ]
    }
   ],
   "source": [
    "import app15_overall_ranking as app15\n",
    "\n",
    "df = app15.get_overall_list_last_2_years()\n",
    "print(df.head(45)[[\"Telepules\", \"p\"]])"
   ]
  },
  {
   "cell_type": "markdown",
   "metadata": {},
   "source": [
    "# The power of the cross-compiled statistic\n",
    "\n",
    "### Fingerprint charts\n",
    "\n",
    "The (not deeply checked) literature frequently mentions the use of voting fingerprint images (e.g. see [[9]](#ref_9)).\n",
    "These allow to examine at a glance how an election could have been affected by irregular activities, such as ballot stuffing, resulting in smears, multimodalities etc.\n",
    "Only at this late point (after the above concluding list) were such plots created, but with a surprisingly useful result.\n",
    "\n",
    "The below chart hopefully helps a bit with understanding the impact of some scenarios on the fingerprint charts."
   ]
  },
  {
   "cell_type": "code",
   "execution_count": 35,
   "metadata": {},
   "outputs": [
    {
     "data": {
      "image/png": "[encoded data removed]",
      "text/plain": [
       "<Figure size 576x576 with 1 Axes>"
      ]
     },
     "metadata": {
      "needs_background": "light"
     },
     "output_type": "display_data"
    }
   ],
   "source": [
    "import matplotlib.pyplot as plt\n",
    "import drdigit as drd\n",
    "\n",
    "plt.rcParams['figure.figsize'] = [8, 8]\n",
    "\n",
    "drd.plot_explanatory_fingerprint_responses(fontsize=16)"
   ]
  },
  {
   "cell_type": "markdown",
   "metadata": {},
   "source": [
    "<a id=\"fraud\"></a>\n",
    "### Comparing fingerprints of less and more suspect areas\n",
    "\n",
    "By plotting this fingerprint for the top 90 vs. the rest of the municipalities we have an opportunity to perhaps detect if the classification (based on last digits only) can lead to any noticeable impact."
   ]
  },
  {
   "cell_type": "code",
   "execution_count": 36,
   "metadata": {},
   "outputs": [],
   "source": [
    "import matplotlib.pyplot as plt\n",
    "\n",
    "from app16_fingerprint_plots import (\n",
    "    plot_2014_fingerprints, plot_2018_fingerprints,  plot_2019_fingerprints,\n",
    "    PARTIES_2014, PARTIES_2018, PARTIES_2019\n",
    ")\n",
    "\n",
    "plt.rcParams['figure.figsize'] = [5, 3]\n"
   ]
  },
  {
   "cell_type": "markdown",
   "metadata": {},
   "source": [
    "### 2014"
   ]
  },
  {
   "cell_type": "code",
   "execution_count": 37,
   "metadata": {},
   "outputs": [
    {
     "data": {
      "image/png": "[encoded data removed]",
      "text/plain": [
       "<Figure size 360x216 with 1 Axes>"
      ]
     },
     "metadata": {
      "needs_background": "light"
     },
     "output_type": "display_data"
    },
    {
     "data": {
      "image/png": "[encoded data removed]",
      "text/plain": [
       "<Figure size 360x216 with 1 Axes>"
      ]
     },
     "metadata": {
      "needs_background": "light"
     },
     "output_type": "display_data"
    }
   ],
   "source": [
    "plot_2014_fingerprints(parties=PARTIES_2014[:1], save=False)"
   ]
  },
  {
   "cell_type": "markdown",
   "metadata": {},
   "source": [
    "### 2018\n",
    "\n",
    "(note the skew)"
   ]
  },
  {
   "cell_type": "code",
   "execution_count": 38,
   "metadata": {},
   "outputs": [
    {
     "data": {
      "image/png": "[encoded data removed]",
      "text/plain": [
       "<Figure size 360x216 with 1 Axes>"
      ]
     },
     "metadata": {
      "needs_background": "light"
     },
     "output_type": "display_data"
    },
    {
     "data": {
      "image/png": "[encoded data removed]",
      "text/plain": [
       "<Figure size 360x216 with 1 Axes>"
      ]
     },
     "metadata": {
      "needs_background": "light"
     },
     "output_type": "display_data"
    }
   ],
   "source": [
    "plot_2018_fingerprints(parties=PARTIES_2018[:1], save=False)"
   ]
  },
  {
   "cell_type": "markdown",
   "metadata": {},
   "source": [
    "### 2019"
   ]
  },
  {
   "cell_type": "code",
   "execution_count": 39,
   "metadata": {},
   "outputs": [
    {
     "data": {
      "image/png": "[encoded data removed]",
      "text/plain": [
       "<Figure size 360x216 with 1 Axes>"
      ]
     },
     "metadata": {
      "needs_background": "light"
     },
     "output_type": "display_data"
    },
    {
     "data": {
      "image/png": "[encoded data removed]",
      "text/plain": [
       "<Figure size 360x216 with 1 Axes>"
      ]
     },
     "metadata": {
      "needs_background": "light"
     },
     "output_type": "display_data"
    }
   ],
   "source": [
    "plot_2019_fingerprints(parties=PARTIES_2019[:1], save=False)"
   ]
  },
  {
   "cell_type": "markdown",
   "metadata": {},
   "source": [
    "### A possible explanation\n",
    "\n",
    "Note that the digit distribution criteria or the choice of municipalities in no obvious way imply such an increasing skew on the plots. It seems more plausible that we can observe what we were looking for, if we were looking for systematic manipulation.\n",
    "\n",
    "In 2014 the Fidesz party was not as an emblematically embarrassing Hungarian speciality as nowadays it is for some.\n",
    "\n",
    "They were before their surprisingly consistent Russia-friendly games with the EU leadership, they were before their infamous Soros and immigration campaigns, they were before their \"illiberal democracy\" era (we still don't know what that is, they possibly meant illegitimate (only joking of course, it is not only us who don't know, nobody does)), overtaking the state media, abusing the tax authorities, breaking up with their favourite oligarch on the \"G-day\", the laughably fast construction of the new (\"what is corruption?\"), and other pathetic moves.\n",
    "\n",
    "Thus in 2014 there could have been little need to hack the results. The 2014 chart for generally suspect municipalities has a similar shape to that of those less suspected. Both are nice, round splatters which visibly are close to something like a joint normal distribution.\n",
    "\n",
    "In 2018 I remember many of us standing in front of a projection screen, waiting for the results. All of us there tried to make the government go away with all the mess they were making. Our only question was by how much they would lose. And yet, we were confronted with a consistent, technically 100% victory. Everybody was thinking of fraud, and nobody knew how to prove it. I spent the aftermath trying to find Fidesz voters, I was curious - why did they vote? I managed to find one (1) around next midday in the capital, perhaps 1:10 or 1:20 or less of the people I spoke with.\n",
    "\n",
    "By 2018, they were more likely in the need of rigging the results. The fingerprint of the non-suspect locations did not really change (apart from translation and scaling).\n",
    "In the suspect locations on the other hand, we see a very skewed chart, very different from the 2014 one.\n",
    "One way to intepret the change is that the top of the patch moves downwards, but the bottom of the chart moves is prevented from that via some form of manipulation, and moves instead towards the top right corner.\n",
    "Put simply: where the vote rate is too low, add beneficial votes, perhaps via stuffing, via numeric manipulation (which could easily exhibit last digit discrepancies sought throughout the document), whatever - resulting in the smearing towards high vote rate, high turnout rate phenomenon.\n",
    "Where there were enough - little needed to be done, but where there weren't ... and allegedly the Fidesz party has quite an (illegal) knowledge of voter preference, based on the so-called [Kubatov-lista](https://en.wikipedia.org/wiki/G%C3%A1bor_Kubatov) - so selecting the right locations and placing prepared vote counters could have been a piece of cake for them.\n",
    "\n",
    "Such manipulation (if any, of course!) results in:\n",
    "- a virtual, increased support for the beneficiary party\n",
    "- a better a priori estimate on the final results (since the rigging depends on a minimum vote ratio - note that it was exactly 2/3 that they aimed for, as explained in relation to the [the political significance](#political_significance) ), technically allowing to produce designed outcomes (remember Trump's election, and Brexit, how tight votes they were, by the way? Do we really believe that analytics can be this good a predictor?)\n",
    "- increased voter turnout (by the way, the 2019 EP election had a record turnout)\n",
    "- not the classic \"top-right\" ballot stuffing smear, but appears to be a lower right hand corner smear\n",
    "\n",
    "Such control can also allow for reducing/increasing the votes received by specific competing parties as well, allowing to perhaps get rid of major, more dangerous opponents one by one (Együtt, LMP, MSZP) one by one and leave less harmful ones unaffected (DK). This is yet to be examined in more details very likely around the topic of overhearing.\n",
    "\n",
    "Back on the plots, the 2019 chart looks even more skewed/stretched.\n",
    "\n",
    "This both seems to conclude about a systemic distortion of voting results in 2018 and 2019 compared to those in 2014, very likely depicting an electoral fraud, and to be a confirmation of the metric's ability to narrow down on more suspect locations.\n"
   ]
  },
  {
   "cell_type": "markdown",
   "metadata": {},
   "source": [
    "### Further results<a id=\"further_results\"></a>\n",
    "\n",
    "The below resulted from trying to examine a weakness in the above - that it is not deeply verified how stable the above are against slight deviations from the assumed uniform distribution. However, the effort at determining the distribution by regressing a line on the histogram (see Appendix) resulted in poor model diagnostics, and during a deeper look the below was found.\n",
    "\n",
    "#### Other last digits\n",
    "\n",
    "The below two charts provide an overview of the last digit distributions as well as the vote count distributions per certain last digits."
   ]
  },
  {
   "cell_type": "code",
   "execution_count": 40,
   "metadata": {},
   "outputs": [
    {
     "data": {
      "image/png": "[encoded data removed]",
      "text/plain": [
       "<Figure size 864x576 with 11 Axes>"
      ]
     },
     "metadata": {
      "needs_background": "light"
     },
     "output_type": "display_data"
    }
   ],
   "source": [
    "import app10_distribution_of_digits as app10\n",
    "import matplotlib.pyplot as plt\n",
    "\n",
    "plt.rcParams['figure.figsize'] = [12, 8]\n",
    "\n",
    "app10.plot_digit_distributions()"
   ]
  },
  {
   "cell_type": "code",
   "execution_count": 41,
   "metadata": {},
   "outputs": [
    {
     "data": {
      "image/png": "[encoded data removed]",
      "text/plain": [
       "<Figure size 864x576 with 11 Axes>"
      ]
     },
     "metadata": {
      "needs_background": "light"
     },
     "output_type": "display_data"
    }
   ],
   "source": [
    "app10.plot_9_to_7_digit_distributions()"
   ]
  },
  {
   "cell_type": "markdown",
   "metadata": {},
   "source": [
    "The first chart depicts similarly balanced distributions for \n",
    "* party votes of Fidesz, DK, Jobbik and Mi Hazank\n",
    "* \"Ervenyes\", the valid votes\n",
    "\n",
    "The second chart shows how often the various vote count ranges encountered digits of 9 (blue bars) and 7 (orange bars). Whilst 9 was often found to be overly preferred, 7 often seemed to be avoided, hence the choices.\n",
    "\n",
    "Why is this interesting? Where the distribution is increasing while moving towards positive infinity horizontally, we could sensibly expect more numerous bigger digits to appear than smaller digits (on the charts, this would be taller orange bars than blue bars).\n",
    "\n",
    "The digit frequency should in case of greater values follow something akin to a Zipf-distribution, making smaller numbers more frequent than larger ones. This is where two tendencies should be unlikely to cancel each other out, the right hand side - when on the decline, slightly more smaller digits should appear than bigger.\n",
    "\n",
    "This consideration accords with most charts, except those of the Fidesz, and the \"Ervenyes\" (valid votes) chart.\n",
    "\n",
    "\n",
    "These suggest that it should be worth looking into the numbers of primarily both of the top two parties, Fidesz and DK, as well as the valid vote count. Furthermore, given the flatness of the Jobbik party digits, perhaps ask the question - has some anomaly affected the Jobbik party votes, and has any 'consistency maintenance' been perhaps carried out on the valid vote counts, to leave fewer loose ends?\n",
    "\n",
    "Another tendency to expect is that the digit distributions go hand in hand, should be unlikely to deviate away from each other much. This again seems fulfilled neatly, except perhaps for (again) the Fidesz and the valid votes charts."
   ]
  },
  {
   "cell_type": "markdown",
   "metadata": {},
   "source": [
    "#### An order of magnitude speculation\n",
    "\n",
    "Having a second look at the Fidesz vote count by digit distribution chart may allow for taking one very rough guess about the potential magnitude of mishaps with the numbers.\n",
    "\n",
    "Given that there are about 100 extra wards (vote counts ending in a 9) in excess of those ending in 7, unexpectedly, after the maximum of the chart, we can say something like 100 x 200 = 20,000 votes could be affected.\n",
    "\n",
    "However, it quickly increases once we factor in that there are other digits to expect weird behaviour from.\n",
    "\n",
    "What does the situation look like?"
   ]
  },
  {
   "cell_type": "code",
   "execution_count": 42,
   "metadata": {},
   "outputs": [
    {
     "data": {
      "image/png": "[encoded data removed]",
      "text/plain": [
       "<Figure size 864x576 with 9 Axes>"
      ]
     },
     "metadata": {
      "needs_background": "light"
     },
     "output_type": "display_data"
    }
   ],
   "source": [
    "from preprocessing import get_preprocessed_data\n",
    "df = get_preprocessed_data()\n",
    "app10.plot_party_vote_by_digit_relationships(df, \"Fidesz\", max_votes=500)"
   ]
  },
  {
   "cell_type": "markdown",
   "metadata": {},
   "source": [
    "Assuming - very speculatively - that those 'outlying' bars at the top all represent some mishap, but in turn ignoring the right side of the 8/9 charts, we can \"by the eye\" estimate:"
   ]
  },
  {
   "cell_type": "code",
   "execution_count": 43,
   "metadata": {},
   "outputs": [
    {
     "data": {
      "text/plain": [
       "70000"
      ]
     },
     "execution_count": 43,
     "metadata": {},
     "output_type": "execute_result"
    }
   ],
   "source": [
    "(20 * 4 + 20 * 3 + 15 * 4 +\n",
    "10 * 3 + 10 + (30 + 10 + 5 + 20) +\n",
    "20 + 25 + 25 * 2) * 175"
   ]
  },
  {
   "cell_type": "markdown",
   "metadata": {},
   "source": [
    "votes. Probably it is not 100% different from the true values, but what might be at stake is staggering, since although the total number of votes was recorded at 3.47M, this is about 3.8% of all the Fidesz votes, or of the same magnitude that some parties received in total (still requires further efforts to come up with a likely value, if possible), which is about the power to take away a mandate or give one. And again, it might be nothing, but can just as well be a tip of an often better camouflaged iceberg.\n",
    "\n",
    "For comparison here are the results of the party receving the second largest number of votes, the DK.\n",
    "\n",
    "Note that here\n",
    "* the orange bars almost never \"beat\" the blue ones on the right hand side for the 8 and 9 digit plots\n",
    "* there are no abrupt \"outbreaks\" such as in case of the Fidesz 8 and 9 charts around 120 and 180, respectively, let alone what happens in case of the 5s\n",
    "* these charts are already magnified along the horizontal axis, and still appear to be much more regular\n",
    "\n",
    "(The equivalent charts for the rest of the parties show up even more regular, for more details see/run the app10... python module.)\n",
    "\n",
    "These charts look very promising, they could probably be turned into statistics and be an effective tool to assess situations at a glance, likely if plotted as 2 dimensional scatter plots as well (similarly to the vote turnout fingerprints in [[9]](ref_9))."
   ]
  },
  {
   "cell_type": "code",
   "execution_count": 44,
   "metadata": {},
   "outputs": [
    {
     "data": {
      "image/png": "[encoded data removed]",
      "text/plain": [
       "<Figure size 864x576 with 9 Axes>"
      ]
     },
     "metadata": {
      "needs_background": "light"
     },
     "output_type": "display_data"
    }
   ],
   "source": [
    "from preprocessing import get_preprocessed_data\n",
    "\n",
    "df = get_preprocessed_data()\n",
    "app10.plot_party_vote_by_digit_relationships(df, \"DK\", max_votes=200)"
   ]
  },
  {
   "cell_type": "markdown",
   "metadata": {},
   "source": [
    "<a id=\"methodology\"></a>\n",
    "### Methodology\n",
    "\n",
    "The methodology is based on that for large enough vote counts, the last digit values can be considered close to i.i.d. uniformly distributed choices of the 10 possible digits in case of a fair, regular situation. A best effort towards this was made by restricting the examinations to the sufficiently sizeable electoral municipalities.\n",
    "\n",
    "#### Entropy p-values\n",
    "\n",
    "Originally some home made metric ($(n_{most frequent digit} - n_{least frequent digit}) / (n_{total  digits}$) was used to see how big the fluctuation in digit distributions is. However, while it was pointing towards largely the same geographic areas, and helped with the beginnings of the exploration, it can be fragile and non-standard, so a different, more mature/central one forms the basis of statistics.\n",
    "\n",
    "The standard information entropy (python scipy.stats.entropy) formula is used [[6]](#ref_6):\n",
    "\n",
    "\n",
    "$${\\displaystyle \\mathrm {H} (X)=-\\sum _{i=1}^{n}{\\mathrm {P} (x_{i})\\log _{b}\\mathrm {P} (x_{i})}}$$\n",
    "\n",
    "(where the $b=e$, i.e. $log_b$ is $ln$). This is probably much better-known and if in the need of improving the accuracy of the report e.g. in case of doubt, it should with a better potential allow for constructing more convincing arguments based on existing, mature mathematical results, rather than a home made metric.\n",
    "\n",
    "Entropy can be understood as a measure that typically reduces when the numbers become more inhomogeneously distributed to the eye. Also, while it is \"neutral\" towards human preference for certain digits (e.g. 0 is both expected and often appeared to be an unreasonably frequent one), it already shows convincing signs of discrepancies.\n",
    "\n",
    "It was for in this respect intentionally ignored that people have an attraction to certain digits (classic \"lucky numbers\"), as on the one hand cultural nuances may vary geographically within the country, on the other the analysis aims for 'good willed' estimates of discrepancy probabilities. The benefit of that is leaving some room for error: the results should be more likely to hold with this approach, perhaps in part, once correcting for human mistakes - should any come to light in the future.\n",
    "\n",
    "#### Simulation\n",
    "\n",
    "One relatively larger scale simulation was kept for the report at this stage (see the app5... module). It is rather slow and surely could be multithreaded/processed and otherwise accelerated (C, C++, ignoring unused values), but keeping it simple (at the cost of being slow) reduces the likeliness of errors creeping in and allows to reflect the thinking that lead to the algorithm. The concept here is to inject randomly generated last digits into the electoral ward vote numbers (for the Fidesz party only) and to examine what distribution of overall entropy (sum of individual entropies) they yield for the top x (ended up being 20) suspects, thereby becoming able to obtain a p-value for the actual data.\n",
    "\n",
    "While creating this simulation did it become evident that entropy on its own is not an easily utilizable metric for comparing short sequences of varying length in terms of extracted source entropy. For instance, it would attach the same scores to the sequences [1, 2] and [1, 1, 2, 2], despite that the first is maximized and the second is unusually redundant given the draws in our case come from 10 elements.\n",
    "\n",
    "The problems experienced while sorting have led to the construction of the entropy p-values, technically p-values of the possible entropy levels of a multinomial distribution depicting possible outcomes of n draws of 10 elements.\n",
    "\n",
    "The items in the simulation were left ranked in ascending entropy order in the first case (app5). Utilizing the below p-values could almost surely improve on the quality of the findings here - see the app9... files, and the below paragraphs for more information.\n",
    "\n",
    "#### Entropy and simulations\n",
    "\n",
    "Whilst individual entropy p-values are interesting, and can reflect on where the problem, if any, may be concentrated, it is a good idea to confirm their overall significance given the bigger picture. Any rare event will happen occasionally if we are to sample long enough, and while there are apparently well more than one < 5% events, there are over 3100 settlements involved - it is always a good idea to confirm, perhaps in this way, whether it is anything really unusual that seems to have been localized, or it is simply large numbers at play.\n",
    "\n",
    "Entropy values were combined together to describe the overall likeliness via a likelihood function as well. This measure here is calculated as the logarithm of the individual settlement probabilities added up. A simulation (four times, with four different random seeds) is taking place to obtain a sample of these from uniform last digit distributions for settlements that are sufficiently large. The distribution is then used as the basis of determining a p-value for the log likelihood value of the actual data.\n",
    "\n",
    "#### Twin digits\n",
    "\n",
    "This has been verified using Poisson distribution p-values. [[7]](#ref_7)\n",
    "The associated probability value was the $P(repeats \\ge actual repeats)$."
   ]
  },
  {
   "cell_type": "markdown",
   "metadata": {},
   "source": [
    "#### Overhearing\n",
    "\n",
    "Overhearing is measured via the geometric mean of the probabilities of the number of coincident last digits among the $w_k$ wards of the $k$th municipality for select base and projected column pairs:\n",
    "\n",
    "$$p_k = exp(\\overline {ln(P(X_{w_k}=actual_{b, p}(k)) \\text{ for } (b, p) \\in (Base \\times Projected \\setminus \\{ (Fidesz, Fidesz), (Ervenyes, Ervenyes) \\} ))})$$\n",
    "\n",
    "assuming a uniform distribution of the base column last digits. The base columns are the number of valid votes and the votes the Fidesz party has received. They are called base columns as they should be independent (orthogonal) of each other which likens them to (albeit not normalised) basis vectors. (In fact, they should be also orthogonal to the projected columns, which is the crux of the test.) The examination is narrowed down to the \"feasibly large\" municipalities (each number $\\ge$100 and each municiplaity consisting of at least 8 wards).\n",
    "\n",
    "The projected columns are the major party sequences (Fidesz, DK, Momentum, MSZP, LMP, Jobbik), the valid votes and the total number of registered voters (Ervenyes, Nevjegyzekben). This would lead to $2 (5 + 2) = 14$ pairs, but the Fidesz-Fidesz and Ervenyes-Ervenyes values are left out. On the other hand, both Fidesz-Ervenyes and Ervenyes-Fidesz are counted, i.e. this pair is in a sense doubly counted. (TODO: Might be something to improve on.)"
   ]
  },
  {
   "cell_type": "markdown",
   "metadata": {},
   "source": [
    "An average of such probabilities is also calculated from the simulations, $\\overline{p_k}$, one per each municipality (this does not tend to be constant), as the geometric mean of the probabilities obtained from repeated simulations of the data, in an identical way to the above for each simulation.\n",
    "\n",
    "A relative probability is finally obtained as $\\frac {p_k} {\\overline {p_k}} $ which forms the basis of sorting aimed at finding the most interesting municipalities.\n",
    "\n",
    "Remark: 2014 and 2018 data could be and were not examined in this way."
   ]
  },
  {
   "cell_type": "markdown",
   "metadata": {},
   "source": [
    "<a id=\"political_significance\"></a>\n",
    "### About the political significance of the results\n",
    "\n",
    "The Hungarian elections have kept warranting the Fidesz party a \"2/3\" governing position. This distinguished majority has allowed the party to carry out modifications of very high importance without confirmation from the opposition, rendering them speaking puppets in the Parliament, both interesting and infuriating to watch.\n",
    "\n",
    "However - interestingly, by coincidence - this has kept being a very fragile \"2/3\". Even the loss of a single parliamentary mandate would have broken this fragile \"2/3\" position (result of 49.27% of the votes in 2018 [[1]](ref_1)). Fidesz has barely hit the threshold in 2014 and 2018.\n",
    "\n",
    "Could they have gained this effectively huge advantage by - perhaps repeat, \"administrative mistakes\"?\n",
    "\n",
    "### Personal connection with the issue\n",
    "\n",
    "The author has been confronted with the situation in Eger on multiple occasions for various bonds with the area. In certain wards, people feel like as if they have almost never seen an actual, living Fidesz voter (this does change when it comes to the vote counters). And yet, they are the majority. Isn't it strange?\n",
    "Eger has come out (without particular intention) as a likely candidate for tampering on multiple occasions in the above, especially in 2019.\n",
    "\n",
    "Thanks to Miklós Vázsonyi from Platon Party for inspiring to statistically check on the votes - even a quick look at Eger's results made it very difficult to miss a \"poker\" of numbers ending with 9's among the 2019 Fidesz votes in Eger ... so it seemed the quality of err... data processing has become worse (except if it has always been questionnable, but hopefully not).\n",
    "\n",
    "The author also personally visited a certain ward in said settlement and his inquiry about the presence of opoosition delegates was not 'too well received'.\n"
   ]
  },
  {
   "cell_type": "markdown",
   "metadata": {},
   "source": [
    "### Conclusion and further steps\n",
    "\n",
    "This analyis has/had multiple aims, some were realized as a potential side benefit along the way.\n",
    "\n",
    "First, the author was curious whether there is actual evidence of tampering in the data - can anything significant be found? Apparently, yes.\n",
    "\n",
    "The above shows some awkward digit distributions in each considered year.\n",
    "\n",
    "Simulations confirm that the 2019 data is highly unlikely to be \"regular\", unaffected by biased digit choices.\n",
    "\n",
    "Certain settlements/cities come up (e.g. Tata, Eger, Budapest V. kerület, Veresegyház, Érd, Pécel, Pomáz, Fót, Berettyóújfalu, Balatonfüred), even regularly, as very likely candidates for closer inspection, and this should not be missed.\n"
   ]
  },
  {
   "cell_type": "markdown",
   "metadata": {},
   "source": [
    "#### Futher aims\n",
    "\n",
    "Beyond the first aim, second, to draw attention of international bodies on the problem of, to say the least, election data processing in Hungary.\n",
    "This time it was EP votes at stake, and the EU (for instance, the OSCE) should be watching, closely.\n",
    "On the other hand, everyday people are allowed to inspect the voting process, and we should, too.\n",
    "\n",
    "The 2019 elections are coming soon, and we should go prepared. The report should help motivating this.\n",
    "\n",
    "Third, to suggest particular geographical areas which may deserve a closer attention next time there is an election.\n",
    "\n",
    "Fourth, to demonstrate methods for further verification of past _Hungarian election data_.\n",
    "In the above, there is room for simulation based checks on both the 2014 and 2018 data. This should be easy - little does the structure of the wards change, it is almost, if not exactly, the same problem as with the 2019 numbers (see app5...).\n",
    "But there is also room for checking on the digits from multiple parties together, as it happened in case of the Fidesz and Jobbik in 2014 above, or for Balatonfüred in 2019.\n",
    "\n",
    "Then, to demonstrate methods for further verification of past election data on an _international scale_.\n",
    "Not only on grounds of suspicion about others' work - it would be very interesting to find out whether the above discrepancies are typical for some innocent reason rather than anything to be nosy about - i.e. to see if the above suffers from methodological or conceptual issues. (But also on grounds of suspicion :) )\n",
    "\n",
    "Fifth, it could and should be hypothesized or possibly investigated whether in the suspect locations any party was likely to benefit from the discrepancies.\n",
    "\n",
    "Sixth, there is a lot more data! There were not only general elections to refer to and compare against, even in the years 2014 and 2018. More data could lead to hopefully more convincing and more detailed findings. A baseline could and should also be formulated from data from other European countries, steps have been taken in this direction.\n",
    "\n",
    "The author expects that a framework (such as a Python package, combined with a standardised format for voting data ) for such analyses could be very welcome by a broad range of experts and democrats - democracies will not work without ensuring that the processes are properly put in place, and this means repeat checks, even if this is a methodological chase between fraudsters and QA. The distributions above were examined mostly in a non-parametric style, reference distributions or functions to deal with the respective PMFs where missing should be a welcome part. \n",
    "\n",
    "The author hereby makes a commitment to improve on what the above provides in case of interest, and also wishes good luck to those digging deeper, irrespective of what their - hopefully correct! - aims and findings may be."
   ]
  },
  {
   "cell_type": "markdown",
   "metadata": {},
   "source": [
    "### Acknowledgements\n",
    "\n",
    "For the data, thanks go to:\n",
    "\n",
    "* Platón Party  (2018 and 2019) [[4]](#ref_4)\n",
    "* András Kálmán (2014) [[5]](#ref_5)\n"
   ]
  },
  {
   "cell_type": "markdown",
   "metadata": {},
   "source": [
    "### References\n",
    "\n",
    "<a id=\"ref_1\"></a>[1] [https://en.wikipedia.org/wiki/2018_Hungarian_parliamentary_election](https://en.wikipedia.org/wiki/2018_Hungarian_parliamentary_election)\n",
    "\n",
    "<a id=\"ref_2\"></a>[2] [https://en.wikipedia.org/wiki/2019_European_Parliament_election_in_Hungary](https://en.wikipedia.org/wiki/2019_European_Parliament_election_in_Hungary)\n",
    "\n",
    "<a id=\"ref_3\"></a>[3] [https://hu.wikipedia.org/wiki/2014-es_magyarorsz%C3%A1gi_%C3%B6nkorm%C3%A1nyzati_v%C3%A1laszt%C3%A1s](https://hu.wikipedia.org/wiki/2014-es_magyarorsz%C3%A1gi_%C3%B6nkorm%C3%A1nyzati_v%C3%A1laszt%C3%A1s)\n",
    "\n",
    "<a id=\"ref_4\"></a>[4] [https://www.facebook.com/platonpart/](https://www.facebook.com/platonpart/)\n",
    "\n",
    "<a id=\"ref_5\"></a>[5] [https://www.kaggle.com/akalman/hungarian-parliamentary-elections-results](https://www.kaggle.com/akalman/hungarian-parliamentary-elections-results)\n",
    "\n",
    "<a id=\"ref_6\"></a>[6] [https://en.wikipedia.org/wiki/Entropy_(information_theory)](https://en.wikipedia.org/wiki/Entropy_(information_theory))\n",
    "\n",
    "<a id=\"ref_7\"></a>[7] [https://en.wikipedia.org/wiki/Poisson_distribution](https://en.wikipedia.org/wiki/Poisson_distribution)\n",
    "\n",
    "<a id=\"ref_8\"></a>[8] [What the Numbers Say: A Digit-Based Test for Election Fraud Using New Data from Nigeria](https://projects.iq.harvard.edu/gov2126/files/beber_scacco_electionfraud.pdf)\n",
    "\n",
    "<a id=\"ref_9\"></a>[9] [Statistical detection of systematic election irregularities](https://www.pnas.org/content/109/41/16469)"
   ]
  },
  {
   "cell_type": "markdown",
   "metadata": {},
   "source": [
    "# Appendix\n",
    "\n",
    "## Overhearing and non-uniformity of last digits\n",
    "\n",
    "### Insensitivity to non-uniformity of the 'projected' series\n",
    "\n",
    "Consider two independent digit series, $c$ and $d$, termed as base and projected series.\n",
    "If the distribution of $c$ is uniform ($p_{c_i} = 0.1; i = 0..9$), the distribution of $d$ ($p_{d_i}; i = 0..9$) does not affect the probability distribution of the number of coinciding digits, that is, of variable $X$ defined as number of $\\left\\{ c_i | c_i=d_i \\right\\}$, since the probability of an individual coincidence, $p$ in the binomial distribution PMF formula $P(X=k) = \\binom {n} {k} p^k (1-p)^{n-k} $ will be left unchanged, effectively leaving the results unchanged.\n",
    "This is so as the p value is calculable as $p=\\sum{p_{c_i} p_{d_i}} = \\sum 0.1 p_{d_i} = 0.1 \\sum{p_{d_i}} = 1$ since exactly one of the $d_i$s is selected at any point.\n",
    "\n",
    "Of course, this insensitivity - very beneficial to our above arguments - fades out as soon as both series lose uniformity.\n",
    "\n",
    "Clearly, in accordance with the above charts, LMP, Jobbik, and other parties number of votes last digit distributions, also in accordance with the expectations against small, power-distributed value series, exhibit strong non-uniformity in their last digit distributions.\n",
    "\n",
    "It is, however, the (base) series they are verified against which are near-uniform in this respect, as expanded on below.\n",
    "\n",
    "### Reasonable generic uniformity of the valid votes and Fidesz last digits considered\n",
    "\n",
    "The series with the two typically biggest values and entered in 2019 formed the basis of this verification. We could attempt a slightly fairer verification had we known what degree of non-uniformity to factor into our calculations. However, it was not possible to extract a statistically significant relationship between the digit and its probability for the involved municipalities (at least 8 wards, at least 100 minimum votes cast on Fidesz).\n",
    "\n",
    "Thus, it is difficult to compensate for this effect which appears arguably significant.\n",
    "\n",
    "The model diagnostics are as - with the p-value of the slope term exceeding 0.7 in both cases:\n"
   ]
  },
  {
   "cell_type": "code",
   "execution_count": 45,
   "metadata": {},
   "outputs": [
    {
     "name": "stdout",
     "output_type": "stream",
     "text": [
      "The rpy2.ipython extension is already loaded. To reload it, use:\n",
      "  %reload_ext rpy2.ipython\n"
     ]
    }
   ],
   "source": [
    "%load_ext rpy2.ipython\n",
    "import app14_digit_correlations_Hun as app14\n",
    "\n",
    "ld_Fidesz_freqs, ld_Erv_freqs = app14.get_digit_freqs()"
   ]
  },
  {
   "cell_type": "code",
   "execution_count": 46,
   "metadata": {},
   "outputs": [
    {
     "name": "stdout",
     "output_type": "stream",
     "text": [
      "\n",
      "Call:\n",
      "lm(formula = ld_Fidesz_freqs ~ x)\n",
      "\n",
      "Residuals:\n",
      "       Min         1Q     Median         3Q        Max \n",
      "-0.0093767 -0.0034644  0.0009529  0.0034343  0.0084213 \n",
      "\n",
      "Coefficients:\n",
      "              Estimate Std. Error t value Pr(>|t|)    \n",
      "(Intercept)  0.1005252  0.0034253  29.348 1.97e-09 ***\n",
      "x           -0.0001167  0.0006416  -0.182     0.86    \n",
      "---\n",
      "Signif. codes:  0 ‘***’ 0.001 ‘**’ 0.01 ‘*’ 0.05 ‘.’ 0.1 ‘ ’ 1\n",
      "\n",
      "Residual standard error: 0.005828 on 8 degrees of freedom\n",
      "Multiple R-squared:  0.004119,\tAdjusted R-squared:  -0.1204 \n",
      "F-statistic: 0.03309 on 1 and 8 DF,  p-value: 0.8602\n",
      "\n",
      "\n",
      "Call:\n",
      "lm(formula = ld_Erv_freqs ~ x)\n",
      "\n",
      "Residuals:\n",
      "      Min        1Q    Median        3Q       Max \n",
      "-0.008768 -0.003529 -0.001109  0.003732  0.009650 \n",
      "\n",
      "Coefficients:\n",
      "              Estimate Std. Error t value Pr(>|t|)    \n",
      "(Intercept)  0.1010991  0.0034549  29.262 2.01e-09 ***\n",
      "x           -0.0002443  0.0006472  -0.377    0.716    \n",
      "---\n",
      "Signif. codes:  0 ‘***’ 0.001 ‘**’ 0.01 ‘*’ 0.05 ‘.’ 0.1 ‘ ’ 1\n",
      "\n",
      "Residual standard error: 0.005878 on 8 degrees of freedom\n",
      "Multiple R-squared:  0.01749,\tAdjusted R-squared:  -0.1053 \n",
      "F-statistic: 0.1424 on 1 and 8 DF,  p-value: 0.7157\n",
      "\n"
     ]
    }
   ],
   "source": [
    "%%R -i ld_Fidesz_freqs,ld_Erv_freqs\n",
    "\n",
    "x = 0:9\n",
    "model1 = lm(ld_Fidesz_freqs ~ x)\n",
    "print(summary(model1))\n",
    "\n",
    "model2 = lm(ld_Erv_freqs ~ x)\n",
    "print(summary(model2))\n"
   ]
  },
  {
   "cell_type": "markdown",
   "metadata": {},
   "source": [
    "However, it is an open question and could be very well raised how much the coincidence of skewed projected column distributions and skewed base column digit distributions (which is the case for certain vote count ranges) may affect the qualities of the test. This is not dealt with at this point, something to improve on.\n"
   ]
  },
  {
   "cell_type": "markdown",
   "metadata": {},
   "source": [
    "### Has the choice of threshold affected the Fidesz votes last digit distribution?\n",
    "\n",
    "A self test should also be carried out for peace of mind.\n",
    "The below chart shows how much it matters if a random noise is added when deciding which settlements are sufficiently large for hypothesizing a uniform distribution. If it starts at 100 (as it normally does) zero digits (assuming smallest values are the most frequent, which then becomes 100) might creep in.\n",
    "The below charts show (both contain 10 replots each with a different random 10-wide boundary noise added) hardly any difference it makes whether this boundary is sharply placed at 100 or in a more blur, 95..105 way, without or with respecting the $ward count \\ge 8$ constraint (the impact is the hardly visible vertical blur on the charts):"
   ]
  },
  {
   "cell_type": "code",
   "execution_count": 47,
   "metadata": {},
   "outputs": [
    {
     "data": {
      "image/png": "[encoded data removed]",
      "text/plain": [
       "<Figure size 864x360 with 2 Axes>"
      ]
     },
     "metadata": {
      "needs_background": "light"
     },
     "output_type": "display_data"
    }
   ],
   "source": [
    "plt.rcParams['figure.figsize'] = [12, 5]\n",
    "app10.plot_Fidesz_digits_sensitivity_to_cutoff()"
   ]
  },
  {
   "cell_type": "markdown",
   "metadata": {},
   "source": [
    "### The author's personal opinion\n",
    "\n",
    "My opinion - obviously, it is only my best bet - is that there is a systemic fraud in Hungarian elections, which other reports have already reflected on from perspectives typically different from the above, which is signified by the above, and which should cease to exist as soon as possible.\n",
    "Not only are the electoral processes unfair, an unelected government is illegitimate, and particularly their policies reliant on the \"2/3 majority\" should be revoked, the people contributing to the fraud should be trialled.\n",
    "\n",
    "We, the people, should never accept the ruling of an illegitimate, fraudulent government. Such leaders should be deprived from their position  and held accountable whatever force it takes.\n",
    "\n",
    "The EU on the other hand, should take steps towards ensuring a high standard of elections, it is not about liberal and illiberal - it is about legitimate and illegitimate."
   ]
  }
 ],
 "metadata": {
  "kernelspec": {
   "display_name": "Python 3",
   "language": "python",
   "name": "python3"
  },
  "language_info": {
   "codemirror_mode": {
    "name": "ipython",
    "version": 3
   },
   "file_extension": ".py",
   "mimetype": "text/x-python",
   "name": "python",
   "nbconvert_exporter": "python",
   "pygments_lexer": "ipython3",
   "version": "3.5.2"
  }
 },
 "nbformat": 4,
 "nbformat_minor": 1
}
