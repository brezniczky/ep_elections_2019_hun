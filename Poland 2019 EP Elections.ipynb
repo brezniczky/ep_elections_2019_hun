{
 "cells": [
  {
   "cell_type": "markdown",
   "metadata": {},
   "source": [
    "# A quick assessment of the 2019 Polish EP election results\n",
    "\n",
    "#### János Brezniczky\n",
    "#### Last updated: 23/08/2019"
   ]
  },
  {
   "cell_type": "markdown",
   "metadata": {},
   "source": [
    "## Abstract\n",
    "\n",
    "An in development Python package [[5](#5)] will be applied to demonstrate its application as well as to depict some potential discrepancies in the 2019 European Parliament election data for Poland.\n",
    "\n",
    "Preferential lists formed the basis of the Polish voting system during this elecetion, individual candidates comprising lists called \"lista\".\n",
    "\n",
    "## Data\n",
    "\n",
    "Not all major areas have seen candidates from each lista, and thus there are multiple data structures in the data as downloaded from the web site [[1](#1)], and there may be changes in the candidates, as well as candidate numbers.\n",
    "\n",
    "The total (razem) column of major listas can nevertheless be concatenated into a single data frame.\n"
   ]
  },
  {
   "cell_type": "code",
   "execution_count": 1,
   "metadata": {},
   "outputs": [],
   "source": [
    "import numpy as np\n",
    "import pandas as pd\n",
    "import matplotlib.pyplot as plt\n",
    "import PL.process_data as pr\n",
    "from PL.preprocessing import get_preprocessed_data\n",
    "from drdigit import set_option"
   ]
  },
  {
   "cell_type": "code",
   "execution_count": 2,
   "metadata": {},
   "outputs": [
    {
     "name": "stdout",
     "output_type": "stream",
     "text": [
      "Merging \"lista\" columns...\n"
     ]
    },
    {
     "data": {
      "text/plain": [
       "MergedDataInfo(\n",
       "    valid_votes_column: Liczba kart ważnych,\n",
       "    nr_of_registered_voters_column: Liczba wyborców uprawnionych do głosowania,\n",
       "    lista_columns: Lista nr 1 - KWW KONFEDERACJA KORWIN BRAUN LIROY NARODOWCY, Lista nr 2 - KW WIOSNA ROBERTA BIEDRONIA, Lista nr 3 - KKW KOALICJA EUROPEJSKA PO PSL SLD .N ZIELONI, Lista nr 4 - KW PRAWO I SPRAWIEDLIWOŚĆ, Lista nr 5 - KKW LEWICA RAZEM - RAZEM, UNIA PRACY, RSS, Lista nr 6 - KWW KUKIZ'15, Lista nr 7 - KWW POLSKA FAIR PLAY BEZPARTYJNI GWIAZDOWSKI, Lista nr 9 - KKW POLEXIT - KOALICJA, Lista nr 10 - KW JEDNOŚĆ NARODU\n",
       ")"
      ]
     },
     "execution_count": 2,
     "metadata": {},
     "output_type": "execute_result"
    }
   ],
   "source": [
    "# so that things utilize each other's results\n",
    "set_option(physical_cache_path=\".drdigit_cache\")\n",
    "\n",
    "np.random.seed(1234)\n",
    "\n",
    "merged, info = get_preprocessed_data()\n",
    "\n",
    "info"
   ]
  },
  {
   "cell_type": "markdown",
   "metadata": {},
   "source": [
    "## Initial assessment\n",
    "\n",
    "A short preparation was carried out on the country level. It suggested that per ward Lista 4 result last digits are more unusual produces of a uniform distribution, when restricting to per ward votes $\\ge$ 100, and even less convincingly so in case of votes $\\ge$ 200 or even $\\ge$ 300.\n",
    "\n",
    "This contradicts that the uniformity would improve as values get larger.\n",
    "\n",
    "Also note that in case of Hungarian data [[3](#3)] this was expected to a degree, as fraud was more likely to be unavoidable for the winning party (Fidesz) to actually win in the cities there, whilst small ward counts were expected to be associable with more rural areas."
   ]
  },
  {
   "cell_type": "markdown",
   "metadata": {},
   "source": [
    "## Ranking by area code\n",
    "\n",
    "We can utilize some ranking based on a few features (relatively simple uniformity and independence statistics of last digits, see code for more details) to identify areas where records of the election results seem more irregular, perhaps doctored.\n",
    "\n",
    "As we see below, the ranking yields diverse scores, suggesting that some degree of distinction was successfully made."
   ]
  },
  {
   "cell_type": "code",
   "execution_count": 3,
   "metadata": {},
   "outputs": [],
   "source": [
    "ranking = pr.check_ranking(merged, info)\n",
    "ranking_df = pd.DataFrame({\"area code\": ranking.index, \"score\": ranking.values})"
   ]
  },
  {
   "cell_type": "code",
   "execution_count": 4,
   "metadata": {},
   "outputs": [
    {
     "name": "stdout",
     "output_type": "stream",
     "text": [
      "2478\n"
     ]
    },
    {
     "data": {
      "text/html": [
       "<div>\n",
       "<style scoped>\n",
       "    .dataframe tbody tr th:only-of-type {\n",
       "        vertical-align: middle;\n",
       "    }\n",
       "\n",
       "    .dataframe tbody tr th {\n",
       "        vertical-align: top;\n",
       "    }\n",
       "\n",
       "    .dataframe thead th {\n",
       "        text-align: right;\n",
       "    }\n",
       "</style>\n",
       "<table border=\"1\" class=\"dataframe\">\n",
       "  <thead>\n",
       "    <tr style=\"text-align: right;\">\n",
       "      <th></th>\n",
       "      <th>area code</th>\n",
       "      <th>score</th>\n",
       "    </tr>\n",
       "  </thead>\n",
       "  <tbody>\n",
       "    <tr>\n",
       "      <th>0</th>\n",
       "      <td>61801</td>\n",
       "      <td>0.000000</td>\n",
       "    </tr>\n",
       "    <tr>\n",
       "      <th>1</th>\n",
       "      <td>140605</td>\n",
       "      <td>0.000003</td>\n",
       "    </tr>\n",
       "    <tr>\n",
       "      <th>2</th>\n",
       "      <td>60101</td>\n",
       "      <td>0.000005</td>\n",
       "    </tr>\n",
       "    <tr>\n",
       "      <th>3</th>\n",
       "      <td>302306</td>\n",
       "      <td>0.000009</td>\n",
       "    </tr>\n",
       "    <tr>\n",
       "      <th>4</th>\n",
       "      <td>121113</td>\n",
       "      <td>0.000016</td>\n",
       "    </tr>\n",
       "    <tr>\n",
       "      <th>5</th>\n",
       "      <td>280304</td>\n",
       "      <td>0.000016</td>\n",
       "    </tr>\n",
       "    <tr>\n",
       "      <th>6</th>\n",
       "      <td>241504</td>\n",
       "      <td>0.000038</td>\n",
       "    </tr>\n",
       "    <tr>\n",
       "      <th>7</th>\n",
       "      <td>240605</td>\n",
       "      <td>0.000063</td>\n",
       "    </tr>\n",
       "    <tr>\n",
       "      <th>8</th>\n",
       "      <td>143002</td>\n",
       "      <td>0.000098</td>\n",
       "    </tr>\n",
       "    <tr>\n",
       "      <th>9</th>\n",
       "      <td>200803</td>\n",
       "      <td>0.000098</td>\n",
       "    </tr>\n",
       "  </tbody>\n",
       "</table>\n",
       "</div>"
      ],
      "text/plain": [
       "   area code     score\n",
       "0      61801  0.000000\n",
       "1     140605  0.000003\n",
       "2      60101  0.000005\n",
       "3     302306  0.000009\n",
       "4     121113  0.000016\n",
       "5     280304  0.000016\n",
       "6     241504  0.000038\n",
       "7     240605  0.000063\n",
       "8     143002  0.000098\n",
       "9     200803  0.000098"
      ]
     },
     "execution_count": 4,
     "metadata": {},
     "output_type": "execute_result"
    }
   ],
   "source": [
    "print(len(ranking))\n",
    "\n",
    "ranking_df.head(10)"
   ]
  },
  {
   "cell_type": "code",
   "execution_count": 5,
   "metadata": {},
   "outputs": [
    {
     "data": {
      "text/html": [
       "<div>\n",
       "<style scoped>\n",
       "    .dataframe tbody tr th:only-of-type {\n",
       "        vertical-align: middle;\n",
       "    }\n",
       "\n",
       "    .dataframe tbody tr th {\n",
       "        vertical-align: top;\n",
       "    }\n",
       "\n",
       "    .dataframe thead th {\n",
       "        text-align: right;\n",
       "    }\n",
       "</style>\n",
       "<table border=\"1\" class=\"dataframe\">\n",
       "  <thead>\n",
       "    <tr style=\"text-align: right;\">\n",
       "      <th></th>\n",
       "      <th>area code</th>\n",
       "      <th>score</th>\n",
       "    </tr>\n",
       "  </thead>\n",
       "  <tbody>\n",
       "    <tr>\n",
       "      <th>1200</th>\n",
       "      <td>20804</td>\n",
       "      <td>0.273907</td>\n",
       "    </tr>\n",
       "    <tr>\n",
       "      <th>1201</th>\n",
       "      <td>180604</td>\n",
       "      <td>0.273973</td>\n",
       "    </tr>\n",
       "    <tr>\n",
       "      <th>1202</th>\n",
       "      <td>60405</td>\n",
       "      <td>0.273973</td>\n",
       "    </tr>\n",
       "    <tr>\n",
       "      <th>1203</th>\n",
       "      <td>60707</td>\n",
       "      <td>0.273973</td>\n",
       "    </tr>\n",
       "    <tr>\n",
       "      <th>1204</th>\n",
       "      <td>146503</td>\n",
       "      <td>0.276177</td>\n",
       "    </tr>\n",
       "    <tr>\n",
       "      <th>1205</th>\n",
       "      <td>321802</td>\n",
       "      <td>0.277116</td>\n",
       "    </tr>\n",
       "    <tr>\n",
       "      <th>1206</th>\n",
       "      <td>180201</td>\n",
       "      <td>0.277453</td>\n",
       "    </tr>\n",
       "    <tr>\n",
       "      <th>1207</th>\n",
       "      <td>40104</td>\n",
       "      <td>0.278683</td>\n",
       "    </tr>\n",
       "    <tr>\n",
       "      <th>1208</th>\n",
       "      <td>61605</td>\n",
       "      <td>0.279457</td>\n",
       "    </tr>\n",
       "    <tr>\n",
       "      <th>1209</th>\n",
       "      <td>261104</td>\n",
       "      <td>0.281134</td>\n",
       "    </tr>\n",
       "  </tbody>\n",
       "</table>\n",
       "</div>"
      ],
      "text/plain": [
       "      area code     score\n",
       "1200      20804  0.273907\n",
       "1201     180604  0.273973\n",
       "1202      60405  0.273973\n",
       "1203      60707  0.273973\n",
       "1204     146503  0.276177\n",
       "1205     321802  0.277116\n",
       "1206     180201  0.277453\n",
       "1207      40104  0.278683\n",
       "1208      61605  0.279457\n",
       "1209     261104  0.281134"
      ]
     },
     "execution_count": 5,
     "metadata": {},
     "output_type": "execute_result"
    }
   ],
   "source": [
    "ranking_df[1200:1210]"
   ]
  },
  {
   "cell_type": "code",
   "execution_count": 6,
   "metadata": {},
   "outputs": [
    {
     "data": {
      "text/plain": [
       "(array([430., 238., 208., 153., 113., 169.,  91.,  69., 130.,  70., 107.,\n",
       "        109.,  59.,  65.,  12.,  10.,   7.,  18.,   8., 412.]),\n",
       " array([0.  , 0.05, 0.1 , 0.15, 0.2 , 0.25, 0.3 , 0.35, 0.4 , 0.45, 0.5 ,\n",
       "        0.55, 0.6 , 0.65, 0.7 , 0.75, 0.8 , 0.85, 0.9 , 0.95, 1.  ]),\n",
       " <a list of 20 Patch objects>)"
      ]
     },
     "execution_count": 6,
     "metadata": {},
     "output_type": "execute_result"
    },
    {
     "data": {
      "image/png": "[encoded data removed]",
      "text/plain": [
       "<Figure size 432x288 with 1 Axes>"
      ]
     },
     "metadata": {
      "needs_background": "light"
     },
     "output_type": "display_data"
    }
   ],
   "source": [
    "plt.hist(ranking, bins=20)"
   ]
  },
  {
   "cell_type": "markdown",
   "metadata": {},
   "source": [
    "## Fingerprint plots\n",
    "\n",
    "In Poland there were two major winners with relatively close results (27 vs 22 seats won [[2](#2)] ), those on Lista 3 and Lista 4. Lista 4 is a party list featuring the current ruling party, PiS. Lista 3 comprises a joint effort of the opposition, such as Platforma Obywatelska (Civic Platform).\n",
    "\n",
    "Overall election fingerprint plots are themselves far from the impression of a joint normal distribution, the below plots show them decomposed into two halves based on the aforementioned digit irregularity ranking.\n",
    "\n",
    "It is worth noting that as opposed to the fingerprint plots mentioned in [[4](#4)], in the present document the fingerprint plots are additionally weighted by the number of votes received by the examined lista within the wards.\n",
    "This is to better depict the practical gravity of the voting situation, also the practical leverage that influencing certain wards would provide for a perpetrator.\n",
    "\n",
    "### Lista 4\n",
    "\n",
    "Lista 4 seems to have underperformed in the more suspicious regions."
   ]
  },
  {
   "cell_type": "code",
   "execution_count": 7,
   "metadata": {},
   "outputs": [
    {
     "name": "stdout",
     "output_type": "stream",
     "text": [
      "plot saved as fingerprints_Poland/Top 50% - more suspicious half lista 4.png\n"
     ]
    },
    {
     "data": {
      "image/png": "[encoded data removed]",
      "text/plain": [
       "<Figure size 432x288 with 1 Axes>"
      ]
     },
     "metadata": {
      "needs_background": "light"
     },
     "output_type": "display_data"
    }
   ],
   "source": [
    "top_50_to = int(len(ranking) / 2)\n",
    "areas = ranking.index[:top_50_to]\n",
    "pr.plot_PL_fingerprint(merged, info, areas, \"Top 50% - more suspicious half\", 4)"
   ]
  },
  {
   "cell_type": "code",
   "execution_count": 8,
   "metadata": {},
   "outputs": [
    {
     "name": "stdout",
     "output_type": "stream",
     "text": [
      "plot saved as fingerprints_Poland/Bottom 50% lista 4.png\n"
     ]
    },
    {
     "data": {
      "image/png": "[encoded data removed]",
      "text/plain": [
       "<Figure size 432x288 with 1 Axes>"
      ]
     },
     "metadata": {
      "needs_background": "light"
     },
     "output_type": "display_data"
    }
   ],
   "source": [
    "areas = ranking.index[top_50_to:]\n",
    "pr.plot_PL_fingerprint(merged, info, areas, \"Bottom 50%\", 4)"
   ]
  },
  {
   "cell_type": "markdown",
   "metadata": {},
   "source": [
    "### Lista 3\n",
    "\n",
    "Lista 3 seems to exhibit a stabler and better performance in the more suspicious regions.\n"
   ]
  },
  {
   "cell_type": "code",
   "execution_count": 9,
   "metadata": {},
   "outputs": [
    {
     "name": "stdout",
     "output_type": "stream",
     "text": [
      "plot saved as fingerprints_Poland/Top 50% - more suspicious half lista 3.png\n"
     ]
    },
    {
     "data": {
      "image/png": "[encoded data removed]",
      "text/plain": [
       "<Figure size 432x288 with 1 Axes>"
      ]
     },
     "metadata": {
      "needs_background": "light"
     },
     "output_type": "display_data"
    }
   ],
   "source": [
    "top_50_to = int(len(ranking) / 2)\n",
    "areas = ranking.index[:top_50_to]\n",
    "pr.plot_PL_fingerprint(merged, info, areas, \"Top 50% - more suspicious half\", 3)"
   ]
  },
  {
   "cell_type": "code",
   "execution_count": 10,
   "metadata": {},
   "outputs": [
    {
     "name": "stdout",
     "output_type": "stream",
     "text": [
      "plot saved as fingerprints_Poland/Bottom 50% lista 3.png\n"
     ]
    },
    {
     "data": {
      "image/png": "[encoded data removed]",
      "text/plain": [
       "<Figure size 432x288 with 1 Axes>"
      ]
     },
     "metadata": {
      "needs_background": "light"
     },
     "output_type": "display_data"
    }
   ],
   "source": [
    "top_50_to = int(len(ranking) / 2)\n",
    "areas = ranking.index[top_50_to:]\n",
    "pr.plot_PL_fingerprint(merged, info, areas, \"Bottom 50%\", 3)"
   ]
  },
  {
   "cell_type": "markdown",
   "metadata": {},
   "source": [
    "We can (just so that the whole thing becomes slightly less boring, and in case anyone's underdosed on old school animgifs) experiment with animations showing how the differences between the top and bottom ranked suspects appear on the charts (there's a fast rewind for now at the end).\n",
    "\n",
    "These are admittedly extremely annoying and should be replaced by videos.\n",
    "\n",
    "Lista 3:\n",
    "<img src=\"fingerprints_Poland/lista 3 top 25 to bottom 25 suspects.gif\"/>\n",
    "\n",
    "Lista 4:\n",
    "<img src=\"fingerprints_Poland/lista 4 top 25 to bottom 25 suspects.gif\"/>"
   ]
  },
  {
   "cell_type": "markdown",
   "metadata": {},
   "source": [
    "## Conclusion\n",
    "\n",
    "It is just a quick exploratory analysis with certain new/under development tools, partly to illustrate the concept.\n",
    "\n",
    "### Likely irregular last digit distribution\n",
    "\n",
    "It was only detected when filtering for electoral wards on a per row basis, more strikingly in areas where per ward turnout reaches a higher number (100, 200, or even 300) of votes, that the last digits of Lista 4 are unlikely to come from a uniform distribution.\n",
    "\n",
    "### Consistent change\n",
    "\n",
    "There is some consistent change in the vote rates obtained by the parties as we move towards more suspect areas, particularly in the performance of Lista 3 and Lista 4. Lista 3 obtaining a higher, Lista 4 achieving a lower rate, both apparently more consistently (vertical deviation seems to reduce), and at the same time underlined by higher turnout.\n",
    "\n",
    "### Explanations\n",
    "\n",
    "#### A possible confounder\n",
    "\n",
    "Of course it is not necessarily the point at which everyone should cry \"fraud\". It could happen, beyond doubtful \"matter of chance\" explanations, for instance, that in rural areas the vote counting is taken with less rigour, which can then imply that where certain vote counts are naturally higher or lower, we observe traces of discrepancies.\n",
    "\n",
    "This could also be accelerated by, for example, some ranking statistic being unexpectedly sensitive towards the number of ballots.\n",
    "\n",
    "There of course can easily be more numerous confounders.\n",
    "\n",
    "#### Other hypothetical options\n",
    "\n",
    "However, this is also consistent with what was experienced (so far) with the Hungarian data - and which could also be temptingly easily explained by \"virtual ballot stuffing\": a systematic doctoring of the recorded numbers in order to increase/decrease the final results of certain parties at the price of an increased number of overall votes (and therefore, turnout rate).\n",
    "\n",
    "Ballot stuffing generally is expected to leave \"smearing\" traces [[4](#4)] on fingerprint charts, this might also be something we can observe - this would suggest that two 'forces' would have tried to rig one election in ways countering each other's efforts, since both the Lista 3 and Lista 4 fingerprints are smeared towards the top right hand corner, Lista 4 also being smeared towards the bottom right hand corner, apperently more so in case of the more suspicious areas.\n",
    "\n",
    "#### Quality\n",
    "\n",
    "Perhaps some increased degree of quality assurance would be desirable in Poland as well, of course the author is even less entitled to judge on that than in case of Hungary.\n",
    "\n",
    "However, beside numerous further explanations, it might be that the package is simply bogus - testing, contribution are welcome.\n",
    "\n",
    "The primary conclusion is that the election data seems to be worth a more elaborate look."
   ]
  },
  {
   "cell_type": "markdown",
   "metadata": {},
   "source": [
    "## References\n",
    "\n",
    "<a id=\"1\"></a>\n",
    "[1] The election data was downloaded from the [Polish election website](https://wybory.gov.pl/pe2019/)\n",
    "\n",
    "<a id=\"2\"></a>\n",
    "[2] [2019 European Parliament election in Poland, Wikipedia](https://en.wikipedia.org/wiki/2019_European_Parliament_election_in_Poland)\n",
    "\n",
    "<a id=\"3\"></a>\n",
    "[3] The Hungarian analysis is under development [here](https://nbviewer.jupyter.org/github/brezniczky/ep_elections_2019_hun/blob/master/report.ipynb)\n",
    "\n",
    "<a id=\"4\"></a>\n",
    "[4] [Forensic analysis of Turkish elections in 2017–2018](https://journals.plos.org/plosone/article?id=10.1371/journal.pone.0204975)\n",
    "\n",
    "<a id=\"5\"></a>\n",
    "[5] The package is currently under development [in this GitHub repository](https://github.com/brezniczky/drdigit)\n",
    "\n",
    "<a id=\"6\"></a>\n",
    "[5] This document is hosted [in this GitHub repository](https://github.com/brezniczky/ep_elections_2019_hun)\n"
   ]
  }
 ],
 "metadata": {
  "kernelspec": {
   "display_name": "Python 3",
   "language": "python",
   "name": "python3"
  },
  "language_info": {
   "codemirror_mode": {
    "name": "ipython",
    "version": 3
   },
   "file_extension": ".py",
   "mimetype": "text/x-python",
   "name": "python",
   "nbconvert_exporter": "python",
   "pygments_lexer": "ipython3",
   "version": "3.5.2"
  }
 },
 "nbformat": 4,
 "nbformat_minor": 2
}
